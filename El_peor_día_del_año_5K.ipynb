{
  "nbformat": 4,
  "nbformat_minor": 0,
  "metadata": {
    "colab": {
      "name": "El peor día del año 5K",
      "provenance": []
    },
    "kernelspec": {
      "name": "python2",
      "display_name": "Python 2"
    }
  },
  "cells": [
    {
      "cell_type": "markdown",
      "metadata": {
        "id": "KxZ1T_bpQPyY",
        "colab_type": "text"
      },
      "source": [
        "# **MÁSTER DE DATA SCIENCE**\n",
        "**Práctica 1**\n",
        "\n",
        "**Estudiante** Diego Armando Cale Pillco  **Fecha** 11/11/2019\n",
        "\n",
        "En esta práctica se elabora un caso práctico orientado a aprender a identificar los datos relevantes por un proyecto analítico y usar las herramientas de extracción de datos.\n",
        " \n",
        " \n",
        " \n",
        " \n",
        "  \n",
        " \n",
        " \n",
        " \n",
        " \n",
        " \n",
        " \n",
        " \n"
      ]
    },
    {
      "cell_type": "markdown",
      "metadata": {
        "id": "yQ60tAuW7jVQ",
        "colab_type": "text"
      },
      "source": [
        "**1. Contexto. Explicar en qué contexto se ha recolectado la información. Explique por qué el sitio web elegido proporciona dicha información.**\n",
        "\n",
        "Para el desarrollo de la presente página se ha realizado de la página https://www.hubertiming.com/ sitio web que permite visualizar el cortometraje de las carreras desde 2009 y actualmente cronometra más de 60 carreras al año. Presenta un amplio conocimiento técnico, una comprensión profunda de la gestión de eventos y las operaciones de carrera, y un alto nivel de atención a los detalles. \n",
        "\n",
        "El conjunto de datos utilizado en esta práctica se tomó de una carrera de 5 km que tuvo lugar en McMenamins Edgefield, Troutdale, OR el 2 de febrero de 2019.\n",
        "Del siguiente sitio web: https://www.hubertiming.com/results/2019WorstDay\n",
        "\n",
        "Específicamente, analizará el rendimiento de los corredores de 5 km y responderá preguntas como:\n",
        "\n",
        "* ¿Cuál fue el tiempo promedio de finalización para los corredores?\n",
        "* ¿Los tiempos de finalización de los corredores siguieron una distribución normal?\n",
        "* ¿Hubo alguna diferencia de rendimiento entre hombres y mujeres de varios grupos de edad?"
      ]
    },
    {
      "cell_type": "markdown",
      "metadata": {
        "id": "pFlKcbmz8XPQ",
        "colab_type": "text"
      },
      "source": [
        "# **Web Scraping usando Python**\n",
        "***Web Scraping usando Beautiful Soup***\n",
        "\n",
        "Comienzo a importando los módulos necesarios (pandas, numpy, matplotlib.pyplot, seaborn). Para mostrar fácilmente los gráficos, asegúrese de incluir la línea% matplotlib en línea como se muestra a continuación."
      ]
    },
    {
      "cell_type": "code",
      "metadata": {
        "id": "ScfEP4GZ1JP1",
        "colab_type": "code",
        "colab": {}
      },
      "source": [
        "import pandas as pd\n",
        "import numpy as np\n",
        "import matplotlib.pyplot as plt\n",
        "import seaborn as sns\n",
        "%matplotlib inline"
      ],
      "execution_count": 0,
      "outputs": []
    },
    {
      "cell_type": "markdown",
      "metadata": {
        "id": "oUkY4BjX8wKt",
        "colab_type": "text"
      },
      "source": [
        "Para realizar el raspado web, también debe importar las bibliotecas que se muestran a continuación. El módulo request se usa para abrir URL. El paquete Beautiful Soup se usa para extraer datos de archivos html. El nombre de la biblioteca de Beautiful Soup es bs4, que significa Beautiful Soup, versión 4."
      ]
    },
    {
      "cell_type": "code",
      "metadata": {
        "id": "jrhS_2px5v48",
        "colab_type": "code",
        "colab": {}
      },
      "source": [
        "import requests\n",
        "from bs4 import BeautifulSoup\n"
      ],
      "execution_count": 0,
      "outputs": []
    },
    {
      "cell_type": "markdown",
      "metadata": {
        "id": "wP5E4bED9EMl",
        "colab_type": "text"
      },
      "source": [
        "Después de importar los módulos necesarios, debe especificar la URL que contiene el conjunto de datos y pasarlo a get () para obtener el html de la página."
      ]
    },
    {
      "cell_type": "code",
      "metadata": {
        "id": "jPRadZMg42Q2",
        "colab_type": "code",
        "colab": {}
      },
      "source": [
        "url='https://www.hubertiming.com/results/2019WorstDay' \n",
        "pagina_html = requests.get(url)\n",
        "pagina_html=pagina_html.text"
      ],
      "execution_count": 0,
      "outputs": []
    },
    {
      "cell_type": "markdown",
      "metadata": {
        "id": "p1Jp-1Is9h6M",
        "colab_type": "text"
      },
      "source": [
        "Obtener el html de la página es solo el primer paso. El siguiente paso es crear un objeto Beautiful Soup a partir del html. Esto se hace pasando el html a la función BeautifulSoup (). El paquete Beautiful Soup se usa para analizar el html, es decir, tomar el texto html sin procesar y dividirlo en objetos Python. El segundo argumento 'lxml' es el analizador html cuyos detalles no necesita preocuparse en este momento."
      ]
    },
    {
      "cell_type": "code",
      "metadata": {
        "id": "fHYYhCbi7CvI",
        "colab_type": "code",
        "outputId": "4135aacb-4cdd-456b-b444-b532921aef65",
        "colab": {
          "base_uri": "https://localhost:8080/",
          "height": 34
        }
      },
      "source": [
        "from bs4 import BeautifulSoup\n",
        "soup = BeautifulSoup(pagina_html, 'lxml')\n",
        "type(soup)"
      ],
      "execution_count": 58,
      "outputs": [
        {
          "output_type": "execute_result",
          "data": {
            "text/plain": [
              "bs4.BeautifulSoup"
            ]
          },
          "metadata": {
            "tags": []
          },
          "execution_count": 58
        }
      ]
    },
    {
      "cell_type": "markdown",
      "metadata": {
        "id": "-QHyidYv92Z_",
        "colab_type": "text"
      },
      "source": [
        "El objeto soup le permite extraer información interesante sobre el sitio web que está raspando, como obtener el título de la página como se muestra a continuación."
      ]
    },
    {
      "cell_type": "code",
      "metadata": {
        "id": "kMdDetsyeIEm",
        "colab_type": "code",
        "outputId": "260454c7-45ee-417a-faec-a68f8781a6fe",
        "colab": {
          "base_uri": "https://localhost:8080/",
          "height": 34
        }
      },
      "source": [
        "# Obtener título de la página\n",
        "title = soup.title\n",
        "print(title)"
      ],
      "execution_count": 60,
      "outputs": [
        {
          "output_type": "stream",
          "text": [
            "<title>2019 Worst Day of the Year 5K Race Results</title>\n"
          ],
          "name": "stdout"
        }
      ]
    },
    {
      "cell_type": "markdown",
      "metadata": {
        "id": "G7rT5lXU-B_e",
        "colab_type": "text"
      },
      "source": [
        "También puede obtener el texto de la página web e imprimirlo rápidamente para verificar si es lo que espera."
      ]
    },
    {
      "cell_type": "code",
      "metadata": {
        "id": "TadIeEyS8reL",
        "colab_type": "code",
        "colab": {}
      },
      "source": [
        "# Imprimir los elementos de la págna Html\n",
        "text = soup.get_text()\n",
        "#print(soup.text)"
      ],
      "execution_count": 0,
      "outputs": []
    },
    {
      "cell_type": "markdown",
      "metadata": {
        "id": "8UU_IVfh-kK7",
        "colab_type": "text"
      },
      "source": [
        "Para imprimir solo las filas de la tabla, pase el argumento 'tr' en soup.find_all ()."
      ]
    },
    {
      "cell_type": "code",
      "metadata": {
        "id": "dQERgaITrA_O",
        "colab_type": "code",
        "colab": {
          "base_uri": "https://localhost:8080/",
          "height": 54
        },
        "outputId": "bb27a1f2-e690-456c-e884-8ec0671dead5"
      },
      "source": [
        "# Print the first 100 rows for sanity check\n",
        "rows = soup.find_all('tr')\n",
        "print(rows[:100])"
      ],
      "execution_count": 65,
      "outputs": [
        {
          "output_type": "stream",
          "text": [
            "[<tr colspan=\"2\"><b>5K:</b></tr>, <tr><td>Finishers:</td><td>123</td></tr>, <tr><td>Male:</td><td>44</td></tr>, <tr><td>Female:</td><td>79</td></tr>, <tr class=\"header\">\\n<th>Place</th>\\n<th>Bib</th>\\n<th>Name</th>\\n<th>Gender</th>\\n<th>Age</th>\\n<th>City</th>\\n<th>State</th>\\n<th>Chip Time</th>\\n<th>Chip Pace</th>\\n<th>Gender Place</th>\\n<th>Age Group</th>\\n<th>Age Group Place</th>\\n<th>Time to Start</th>\\n<th>Gun Time</th>\\n</tr>, <tr>\\n<td>1</td>\\n<td>1378</td>\\n<td>BRADY BEAGLEY</td>\\n<td>M</td>\\n<td>27</td>\\n<td>PORTLAND</td>\\n<td>OR</td>\\n<td>19:17</td>\\n<td>6:13</td>\\n<td>1 of 44</td>\\n<td>M 25-29</td>\\n<td>1 of 4</td>\\n<td>1:00:02</td>\\n<td>1:19:19</td>\\n</tr>, <tr>\\n<td>2</td>\\n<td>1302</td>\\n<td>SCOTT GULLICKSON</td>\\n<td>M</td>\\n<td>55</td>\\n<td>RIDGEFIELD</td>\\n<td>WA</td>\\n<td>20:55</td>\\n<td>6:45</td>\\n<td>2 of 44</td>\\n<td>M 55-59</td>\\n<td>1 of 4</td>\\n<td>1:00:01</td>\\n<td>1:20:56</td>\\n</tr>, <tr>\\n<td>3</td>\\n<td>1364</td>\\n<td>JAMES DAVIS</td>\\n<td>M</td>\\n<td>15</td>\\n<td>SHERWOOD</td>\\n<td>OR</td>\\n<td>22:47</td>\\n<td>7:21</td>\\n<td>3 of 44</td>\\n<td>M 15-19</td>\\n<td>1 of 1</td>\\n<td>0:04</td>\\n<td>22:51</td>\\n</tr>, <tr>\\n<td>4</td>\\n<td>1330</td>\\n<td>KEVIN ERICKSON</td>\\n<td>M</td>\\n<td>34</td>\\n<td>VANCOUVER</td>\\n<td>WA</td>\\n<td>22:52</td>\\n<td>7:22</td>\\n<td>4 of 44</td>\\n<td>M 30-34</td>\\n<td>1 of 2</td>\\n<td>0:03</td>\\n<td>22:55</td>\\n</tr>, <tr>\\n<td>5</td>\\n<td>1372</td>\\n<td>STEPHEN WILLIAMS</td>\\n<td>M</td>\\n<td>24</td>\\n<td>PORTLAND</td>\\n<td>OR</td>\\n<td>24:23</td>\\n<td>7:52</td>\\n<td>5 of 44</td>\\n<td>M 20-24</td>\\n<td>1 of 2</td>\\n<td>0:15</td>\\n<td>24:38</td>\\n</tr>, <tr>\\n<td>6</td>\\n<td>1387</td>\\n<td>MICHELLE PAUL</td>\\n<td>F</td>\\n<td>35</td>\\n<td>WASHOUGAL</td>\\n<td>WA</td>\\n<td>25:14</td>\\n<td>8:08</td>\\n<td>1 of 79</td>\\n<td>F 35-39</td>\\n<td>1 of 17</td>\\n<td>1:00:04</td>\\n<td>1:25:18</td>\\n</tr>, <tr>\\n<td>7</td>\\n<td>1349</td>\\n<td>AUGUST SEWELL</td>\\n<td>M</td>\\n<td>14</td>\\n<td>TIMBER</td>\\n<td>OR</td>\\n<td>25:16</td>\\n<td>8:09</td>\\n<td>6 of 44</td>\\n<td>M 10-14</td>\\n<td>1 of 3</td>\\n<td>0:06</td>\\n<td>25:22</td>\\n</tr>, <tr>\\n<td>8</td>\\n<td>1343</td>\\n<td>DIMITRI STUCOLOV</td>\\n<td>M</td>\\n<td>35</td>\\n<td>PORTLAND</td>\\n<td>OR</td>\\n<td>25:37</td>\\n<td>8:15</td>\\n<td>7 of 44</td>\\n<td>M 35-39</td>\\n<td>1 of 5</td>\\n<td>0:04</td>\\n<td>25:41</td>\\n</tr>, <tr>\\n<td>9</td>\\n<td>1383</td>\\n<td>PATRICK CORNELL</td>\\n<td>M</td>\\n<td>28</td>\\n<td>PORTLAND</td>\\n<td>OR</td>\\n<td>26:02</td>\\n<td>8:24</td>\\n<td>8 of 44</td>\\n<td>M 25-29</td>\\n<td>2 of 4</td>\\n<td>1:00:07</td>\\n<td>1:26:09</td>\\n</tr>, <tr>\\n<td>10</td>\\n<td>1384</td>\\n<td>BILL BONIFACE</td>\\n<td>M</td>\\n<td>66</td>\\n<td>PORTLAND</td>\\n<td>OR</td>\\n<td>26:11</td>\\n<td>8:26</td>\\n<td>9 of 44</td>\\n<td>M 65-69</td>\\n<td>1 of 4</td>\\n<td>1:00:06</td>\\n<td>1:26:17</td>\\n</tr>, <tr>\\n<td>11</td>\\n<td>1362</td>\\n<td>AVERY DAVIS</td>\\n<td>F</td>\\n<td>12</td>\\n<td>SHERWOOD</td>\\n<td>OR</td>\\n<td>26:16</td>\\n<td>8:28</td>\\n<td>2 of 79</td>\\n<td>F 10-14</td>\\n<td>1 of 2</td>\\n<td>0:04</td>\\n<td>26:20</td>\\n</tr>, <tr>\\n<td>12</td>\\n<td>1361</td>\\n<td>BEN DAVIS</td>\\n<td>M</td>\\n<td>41</td>\\n<td>SHERWOOD</td>\\n<td>OR</td>\\n<td>26:19</td>\\n<td>8:29</td>\\n<td>10 of 44</td>\\n<td>M 40-44</td>\\n<td>1 of 8</td>\\n<td>0:04</td>\\n<td>26:23</td>\\n</tr>, <tr>\\n<td>13</td>\\n<td>1306</td>\\n<td>ALLEN GUTTORMSON</td>\\n<td>M</td>\\n<td>39</td>\\n<td>SANDY</td>\\n<td>OR</td>\\n<td>26:49</td>\\n<td>8:39</td>\\n<td>11 of 44</td>\\n<td>M 35-39</td>\\n<td>2 of 5</td>\\n<td>0:13</td>\\n<td>27:02</td>\\n</tr>, <tr>\\n<td>14</td>\\n<td>1340</td>\\n<td>JONATHAN SMART</td>\\n<td>M</td>\\n<td>47</td>\\n<td>PORTLAND</td>\\n<td>OR</td>\\n<td>27:19</td>\\n<td>8:48</td>\\n<td>12 of 44</td>\\n<td>M 45-49</td>\\n<td>1 of 5</td>\\n<td>0:03</td>\\n<td>27:22</td>\\n</tr>, <tr>\\n<td>15</td>\\n<td>1313</td>\\n<td>MEGAN URTON</td>\\n<td>F</td>\\n<td>30</td>\\n<td>SANDY</td>\\n<td>OR</td>\\n<td>27:34</td>\\n<td>8:53</td>\\n<td>3 of 79</td>\\n<td>F 30-34</td>\\n<td>1 of 7</td>\\n<td>1:00:09</td>\\n<td>1:27:43</td>\\n</tr>, <tr>\\n<td>16</td>\\n<td>1351</td>\\n<td>JOHN DABNEY</td>\\n<td>M</td>\\n<td>35</td>\\n<td>BELTSVILLE</td>\\n<td>MD</td>\\n<td>27:52</td>\\n<td>8:59</td>\\n<td>13 of 44</td>\\n<td>M 35-39</td>\\n<td>3 of 5</td>\\n<td>1:18</td>\\n<td>29:10</td>\\n</tr>, <tr>\\n<td>17</td>\\n<td>1344</td>\\n<td>AARON VANDERMEULEN</td>\\n<td>M</td>\\n<td>36</td>\\n<td>PORTLAND</td>\\n<td>OR</td>\\n<td>28:18</td>\\n<td>9:07</td>\\n<td>14 of 44</td>\\n<td>M 35-39</td>\\n<td>4 of 5</td>\\n<td>0:50</td>\\n<td>29:08</td>\\n</tr>, <tr>\\n<td>18</td>\\n<td>1412</td>\\n<td>DAVID WARNOCK</td>\\n<td>M</td>\\n<td>72</td>\\n<td>SAINT HELENS</td>\\n<td>OR</td>\\n<td>28:20</td>\\n<td>9:08</td>\\n<td>15 of 44</td>\\n<td>M 70-74</td>\\n<td>1 of 2</td>\\n<td>2:00:14</td>\\n<td>2:28:34</td>\\n</tr>, <tr>\\n<td>19</td>\\n<td>1409</td>\\n<td>LUKE HENDERSON</td>\\n<td>M</td>\\n<td>25</td>\\n<td>SAINT HELENS</td>\\n<td>OR</td>\\n<td>28:20</td>\\n<td>9:08</td>\\n<td>16 of 44</td>\\n<td>M 25-29</td>\\n<td>3 of 4</td>\\n<td>2:00:14</td>\\n<td>2:28:34</td>\\n</tr>, <tr>\\n<td>20</td>\\n<td>1311</td>\\n<td>THOMAS COWLES</td>\\n<td>M</td>\\n<td>62</td>\\n<td>LAKE OSWEGO</td>\\n<td>OR</td>\\n<td>28:20</td>\\n<td>9:08</td>\\n<td>17 of 44</td>\\n<td>M 60-64</td>\\n<td>1 of 2</td>\\n<td>3:42</td>\\n<td>32:02</td>\\n</tr>, <tr>\\n<td>21</td>\\n<td>1363</td>\\n<td>SHARON TSAI</td>\\n<td>F</td>\\n<td>47</td>\\n<td>BEAVERTON</td>\\n<td>OR</td>\\n<td>28:27</td>\\n<td>9:10</td>\\n<td>4 of 79</td>\\n<td>F 45-49</td>\\n<td>1 of 10</td>\\n<td>0:44</td>\\n<td>29:11</td>\\n</tr>, <tr>\\n<td>22</td>\\n<td>1309</td>\\n<td>DJ SIMCOE</td>\\n<td>M</td>\\n<td>55</td>\\n<td>WILSONVILLE</td>\\n<td>OR</td>\\n<td>28:36</td>\\n<td>9:13</td>\\n<td>18 of 44</td>\\n<td>M 55-59</td>\\n<td>2 of 4</td>\\n<td>1:00:02</td>\\n<td>1:28:38</td>\\n</tr>, <tr>\\n<td>23</td>\\n<td>1419</td>\\n<td>TIM TAACA</td>\\n<td>M</td>\\n<td>48</td>\\n<td>VANCOUVER</td>\\n<td>WA</td>\\n<td>28:50</td>\\n<td>9:18</td>\\n<td>19 of 44</td>\\n<td>M 45-49</td>\\n<td>2 of 5</td>\\n<td>1:00:06</td>\\n<td>1:28:56</td>\\n</tr>, <tr>\\n<td>24</td>\\n<td>1407</td>\\n<td>JACQUELYN RAY</td>\\n<td>F</td>\\n<td>44</td>\\n<td>PENDLETON</td>\\n<td>OR</td>\\n<td>29:00</td>\\n<td>9:21</td>\\n<td>5 of 79</td>\\n<td>F 40-44</td>\\n<td>1 of 20</td>\\n<td>2:00:23</td>\\n<td>2:29:23</td>\\n</tr>, <tr>\\n<td>25</td>\\n<td>1328</td>\\n<td>KRISTI TINDALL</td>\\n<td>F</td>\\n<td>41</td>\\n<td>TROUTDALE</td>\\n<td>OR</td>\\n<td>29:04</td>\\n<td>9:22</td>\\n<td>6 of 79</td>\\n<td>F 40-44</td>\\n<td>2 of 20</td>\\n<td>0:49</td>\\n<td>29:53</td>\\n</tr>, <tr>\\n<td>26</td>\\n<td>1357</td>\\n<td>STEVE LEAL</td>\\n<td>M</td>\\n<td>44</td>\\n<td>VANCOUVER</td>\\n<td>WA</td>\\n<td>29:06</td>\\n<td>9:23</td>\\n<td>20 of 44</td>\\n<td>M 40-44</td>\\n<td>2 of 8</td>\\n<td>0:07</td>\\n<td>29:13</td>\\n</tr>, <tr>\\n<td>27</td>\\n<td>1385</td>\\n<td>ERIN BONIFACE</td>\\n<td>F</td>\\n<td>28</td>\\n<td>PORTLAND</td>\\n<td>OR</td>\\n<td>29:13</td>\\n<td>9:25</td>\\n<td>7 of 79</td>\\n<td>F 25-29</td>\\n<td>1 of 5</td>\\n<td>1:00:06</td>\\n<td>1:29:19</td>\\n</tr>, <tr>\\n<td>28</td>\\n<td>1392</td>\\n<td>JOSE OROZCO</td>\\n<td>M</td>\\n<td>41</td>\\n<td>GRESHAM</td>\\n<td>OR</td>\\n<td>29:18</td>\\n<td>9:27</td>\\n<td>21 of 44</td>\\n<td>M 40-44</td>\\n<td>3 of 8</td>\\n<td>1:00:09</td>\\n<td>1:29:27</td>\\n</tr>, <tr>\\n<td>29</td>\\n<td>1448</td>\\n<td>ROMMEL DE PERALTA</td>\\n<td>M</td>\\n<td>42</td>\\n<td>CAMAS</td>\\n<td>WA</td>\\n<td>29:21</td>\\n<td>9:28</td>\\n<td>22 of 44</td>\\n<td>M 40-44</td>\\n<td>4 of 8</td>\\n<td>0:47</td>\\n<td>30:08</td>\\n</tr>, <tr>\\n<td>30</td>\\n<td>1345</td>\\n<td>HOWARD COHEN</td>\\n<td>M</td>\\n<td>71</td>\\n<td>OREGON CITY</td>\\n<td>OR</td>\\n<td>29:21</td>\\n<td>9:28</td>\\n<td>23 of 44</td>\\n<td>M 70-74</td>\\n<td>2 of 2</td>\\n<td>0:53</td>\\n<td>30:14</td>\\n</tr>, <tr>\\n<td>31</td>\\n<td>1359</td>\\n<td>COLLEEN CREECH</td>\\n<td>F</td>\\n<td>36</td>\\n<td>HAPPY VALLEY</td>\\n<td>OR</td>\\n<td>29:26</td>\\n<td>9:29</td>\\n<td>8 of 79</td>\\n<td>F 35-39</td>\\n<td>2 of 17</td>\\n<td>0:47</td>\\n<td>30:13</td>\\n</tr>, <tr>\\n<td>32</td>\\n<td>1352</td>\\n<td>BRETT WOODEN</td>\\n<td>M</td>\\n<td>39</td>\\n<td>OREGON CITY</td>\\n<td>OR</td>\\n<td>29:45</td>\\n<td>9:36</td>\\n<td>24 of 44</td>\\n<td>M 35-39</td>\\n<td>5 of 5</td>\\n<td>1:23</td>\\n<td>31:08</td>\\n</tr>, <tr>\\n<td>33</td>\\n<td>1329</td>\\n<td>ERIN LEBSACK</td>\\n<td>F</td>\\n<td>29</td>\\n<td>VANCOUVER</td>\\n<td>WA</td>\\n<td>29:53</td>\\n<td>9:38</td>\\n<td>9 of 79</td>\\n<td>F 25-29</td>\\n<td>2 of 5</td>\\n<td>0:53</td>\\n<td>30:46</td>\\n</tr>, <tr>\\n<td>34</td>\\n<td>1315</td>\\n<td>RONALD BERRY</td>\\n<td>M</td>\\n<td>62</td>\\n<td>PORTLAND</td>\\n<td>OR</td>\\n<td>30:11</td>\\n<td>9:44</td>\\n<td>25 of 44</td>\\n<td>M 60-64</td>\\n<td>2 of 2</td>\\n<td>2:00:16</td>\\n<td>2:30:27</td>\\n</tr>, <tr>\\n<td>35</td>\\n<td>1443</td>\\n<td>DANIEL GEOPPINGER</td>\\n<td>F</td>\\n<td>41</td>\\n<td>PORTLAND</td>\\n<td>OR</td>\\n<td>30:18</td>\\n<td>9:46</td>\\n<td>10 of 79</td>\\n<td>F 40-44</td>\\n<td>3 of 20</td>\\n<td>1:02:42</td>\\n<td>1:33:00</td>\\n</tr>, <tr>\\n<td>36</td>\\n<td>1347</td>\\n<td>LESLIE MCLEOD</td>\\n<td>F</td>\\n<td>41</td>\\n<td>FOREST GROVE</td>\\n<td>OR</td>\\n<td>30:39</td>\\n<td>9:53</td>\\n<td>11 of 79</td>\\n<td>F 40-44</td>\\n<td>4 of 20</td>\\n<td>0:09</td>\\n<td>30:48</td>\\n</tr>, <tr>\\n<td>37</td>\\n<td>1310</td>\\n<td>ANNE SIMCOE</td>\\n<td>M</td>\\n<td>50</td>\\n<td>WILSONVILLE</td>\\n<td>OR</td>\\n<td>30:46</td>\\n<td>9:55</td>\\n<td>26 of 44</td>\\n<td>M 50-54</td>\\n<td>1 of 1</td>\\n<td>1:00:01</td>\\n<td>1:30:47</td>\\n</tr>, <tr>\\n<td>38</td>\\n<td>1333</td>\\n<td>REBECCA ROEHM</td>\\n<td>F</td>\\n<td>39</td>\\n<td>PORTLAND</td>\\n<td>OR</td>\\n<td>30:49</td>\\n<td>9:56</td>\\n<td>12 of 79</td>\\n<td>F 35-39</td>\\n<td>3 of 17</td>\\n<td>0:08</td>\\n<td>30:57</td>\\n</tr>, <tr>\\n<td>39</td>\\n<td>1367</td>\\n<td>TRACI CHAMBERS</td>\\n<td>F</td>\\n<td>46</td>\\n<td>TROUTDALE</td>\\n<td>OR</td>\\n<td>31:23</td>\\n<td>10:07</td>\\n<td>13 of 79</td>\\n<td>F 45-49</td>\\n<td>2 of 10</td>\\n<td>1:21</td>\\n<td>32:44</td>\\n</tr>, <tr>\\n<td>40</td>\\n<td>1379</td>\\n<td>KRISTENA BARNES</td>\\n<td>F</td>\\n<td>36</td>\\n<td>PORTLAND</td>\\n<td>OR</td>\\n<td>31:30</td>\\n<td>10:09</td>\\n<td>14 of 79</td>\\n<td>F 35-39</td>\\n<td>4 of 17</td>\\n<td>1:00:07</td>\\n<td>1:31:37</td>\\n</tr>, <tr>\\n<td>41</td>\\n<td>1370</td>\\n<td>TESSA WARGO</td>\\n<td>F</td>\\n<td>39</td>\\n<td>VANCOUVER</td>\\n<td>WA</td>\\n<td>31:36</td>\\n<td>10:11</td>\\n<td>15 of 79</td>\\n<td>F 35-39</td>\\n<td>5 of 17</td>\\n<td>0:50</td>\\n<td>32:26</td>\\n</tr>, <tr>\\n<td>42</td>\\n<td>1371</td>\\n<td>JOHN FEDEROVITCH</td>\\n<td>M</td>\\n<td>43</td>\\n<td>VANCOUVER</td>\\n<td>WA</td>\\n<td>31:37</td>\\n<td>10:12</td>\\n<td>27 of 44</td>\\n<td>M 40-44</td>\\n<td>5 of 8</td>\\n<td>0:49</td>\\n<td>32:26</td>\\n</tr>, <tr>\\n<td>43</td>\\n<td>1408</td>\\n<td>RENEE KREMPLEY</td>\\n<td>F</td>\\n<td>37</td>\\n<td>TUALATIN</td>\\n<td>OR</td>\\n<td>31:50</td>\\n<td>10:16</td>\\n<td>16 of 79</td>\\n<td>F 35-39</td>\\n<td>6 of 17</td>\\n<td>2:00:16</td>\\n<td>2:32:06</td>\\n</tr>, <tr>\\n<td>44</td>\\n<td>1365</td>\\n<td>KYLE PARKER</td>\\n<td>M</td>\\n<td>44</td>\\n<td>TROUTDALE</td>\\n<td>OR</td>\\n<td>32:12</td>\\n<td>10:23</td>\\n<td>28 of 44</td>\\n<td>M 40-44</td>\\n<td>6 of 8</td>\\n<td>0:47</td>\\n<td>32:59</td>\\n</tr>, <tr>\\n<td>45</td>\\n<td>1355</td>\\n<td>MARIA POYTHRESS</td>\\n<td>F</td>\\n<td>46</td>\\n<td>PUYALLUP</td>\\n<td>WA</td>\\n<td>32:14</td>\\n<td>10:23</td>\\n<td>17 of 79</td>\\n<td>F 45-49</td>\\n<td>3 of 10</td>\\n<td>0:05</td>\\n<td>32:19</td>\\n</tr>, <tr>\\n<td>46</td>\\n<td>1324</td>\\n<td>LISA MACHIAVELLI</td>\\n<td>F</td>\\n<td>53</td>\\n<td>WEST LINN</td>\\n<td>OR</td>\\n<td>32:15</td>\\n<td>10:24</td>\\n<td>18 of 79</td>\\n<td>F 50-54</td>\\n<td>1 of 9</td>\\n<td>1:00:13</td>\\n<td>1:32:28</td>\\n</tr>, <tr>\\n<td>47</td>\\n<td>1446</td>\\n<td>MASONIA WALLIN</td>\\n<td>F</td>\\n<td>49</td>\\n<td>CAMAS</td>\\n<td>WA</td>\\n<td>32:25</td>\\n<td>10:27</td>\\n<td>19 of 79</td>\\n<td>F 45-49</td>\\n<td>4 of 10</td>\\n<td>0:03</td>\\n<td>32:28</td>\\n</tr>, <tr>\\n<td>48</td>\\n<td>1322</td>\\n<td>JUANITA PORTER</td>\\n<td>F</td>\\n<td>47</td>\\n<td>PORTLAND</td>\\n<td>OR</td>\\n<td>32:43</td>\\n<td>10:33</td>\\n<td>20 of 79</td>\\n<td>F 45-49</td>\\n<td>5 of 10</td>\\n<td>2:22</td>\\n<td>35:05</td>\\n</tr>, <tr>\\n<td>49</td>\\n<td>1386</td>\\n<td>KRISTINE GLASSETT</td>\\n<td>F</td>\\n<td>39</td>\\n<td>TACOMA</td>\\n<td>WA</td>\\n<td>32:54</td>\\n<td>10:37</td>\\n<td>21 of 79</td>\\n<td>F 35-39</td>\\n<td>7 of 17</td>\\n<td>1:00:06</td>\\n<td>1:33:00</td>\\n</tr>, <tr>\\n<td>50</td>\\n<td>1422</td>\\n<td>ASHLEY CHOJNACKI</td>\\n<td>F</td>\\n<td>32</td>\\n<td>MILWAUKIE</td>\\n<td>OR</td>\\n<td>33:02</td>\\n<td>10:39</td>\\n<td>22 of 79</td>\\n<td>F 30-34</td>\\n<td>2 of 7</td>\\n<td>2:00:20</td>\\n<td>2:33:22</td>\\n</tr>, <tr>\\n<td>51</td>\\n<td>1396</td>\\n<td>SARA RIVARA</td>\\n<td>F</td>\\n<td>41</td>\\n<td>PORTLAND</td>\\n<td>OR</td>\\n<td>33:38</td>\\n<td>10:51</td>\\n<td>23 of 79</td>\\n<td>F 40-44</td>\\n<td>5 of 20</td>\\n<td>1:01:12</td>\\n<td>1:34:50</td>\\n</tr>, <tr>\\n<td>52</td>\\n<td>1335</td>\\n<td>PETE KLIMECKY</td>\\n<td>M</td>\\n<td>49</td>\\n<td>PORTLAND</td>\\n<td>OR</td>\\n<td>33:41</td>\\n<td>10:52</td>\\n<td>29 of 44</td>\\n<td>M 45-49</td>\\n<td>3 of 5</td>\\n<td>0:51</td>\\n<td>34:32</td>\\n</tr>, <tr>\\n<td>53</td>\\n<td>1376</td>\\n<td>AIMEE HUNTER</td>\\n<td>F</td>\\n<td>33</td>\\n<td>VANCOUVER</td>\\n<td>WA</td>\\n<td>34:05</td>\\n<td>10:59</td>\\n<td>24 of 79</td>\\n<td>F 30-34</td>\\n<td>3 of 7</td>\\n<td>3:42</td>\\n<td>37:47</td>\\n</tr>, <tr>\\n<td>54</td>\\n<td>1356</td>\\n<td>JENNIFER LEAL</td>\\n<td>F</td>\\n<td>44</td>\\n<td>VANCOUVER</td>\\n<td>WA</td>\\n<td>35:00</td>\\n<td>11:17</td>\\n<td>25 of 79</td>\\n<td>F 40-44</td>\\n<td>6 of 20</td>\\n<td>1:25</td>\\n<td>36:25</td>\\n</tr>, <tr>\\n<td>55</td>\\n<td>1303</td>\\n<td>MEGAN WALTOSZ</td>\\n<td>F</td>\\n<td>31</td>\\n<td>PORTLAND</td>\\n<td>OR</td>\\n<td>35:06</td>\\n<td>11:19</td>\\n<td>26 of 79</td>\\n<td>F 30-34</td>\\n<td>4 of 7</td>\\n<td>1:24</td>\\n<td>36:30</td>\\n</tr>, <tr>\\n<td>56</td>\\n<td>1321</td>\\n<td>JAMIE ALEXANDER</td>\\n<td>F</td>\\n<td>38</td>\\n<td>PORTLAND</td>\\n<td>OR</td>\\n<td>35:09</td>\\n<td>11:20</td>\\n<td>27 of 79</td>\\n<td>F 35-39</td>\\n<td>8 of 17</td>\\n<td>0:55</td>\\n<td>36:04</td>\\n</tr>, <tr>\\n<td>57</td>\\n<td>1447</td>\\n<td>MELANIE JENSEN</td>\\n<td>F</td>\\n<td>42</td>\\n<td>CAMAS</td>\\n<td>WA</td>\\n<td>35:11</td>\\n<td>11:21</td>\\n<td>28 of 79</td>\\n<td>F 40-44</td>\\n<td>7 of 20</td>\\n<td>0:02</td>\\n<td>35:13</td>\\n</tr>, <tr>\\n<td>58</td>\\n<td>1327</td>\\n<td>ROBIN FLEMING</td>\\n<td>F</td>\\n<td>56</td>\\n<td>ALOHA</td>\\n<td>OR</td>\\n<td>35:36</td>\\n<td>11:29</td>\\n<td>29 of 79</td>\\n<td>F 55-59</td>\\n<td>1 of 4</td>\\n<td>1:01:12</td>\\n<td>1:36:48</td>\\n</tr>, <tr>\\n<td>59</td>\\n<td>1331</td>\\n<td>DAN MOORE</td>\\n<td>M</td>\\n<td>56</td>\\n<td>TIGARD</td>\\n<td>OR</td>\\n<td>35:42</td>\\n<td>11:31</td>\\n<td>30 of 44</td>\\n<td>M 55-59</td>\\n<td>3 of 4</td>\\n<td>0:08</td>\\n<td>35:50</td>\\n</tr>, <tr>\\n<td>60</td>\\n<td>1301</td>\\n<td>TWILLA HARRINGTON</td>\\n<td>F</td>\\n<td>43</td>\\n<td>TROUTDALE</td>\\n<td>OR</td>\\n<td>35:46</td>\\n<td>11:32</td>\\n<td>30 of 79</td>\\n<td>F 40-44</td>\\n<td>8 of 20</td>\\n<td>0:53</td>\\n<td>36:39</td>\\n</tr>, <tr>\\n<td>61</td>\\n<td>1391</td>\\n<td>DORI FRITSCH</td>\\n<td>F</td>\\n<td>52</td>\\n<td>CLACKAMAS</td>\\n<td>OR</td>\\n<td>36:13</td>\\n<td>11:41</td>\\n<td>31 of 79</td>\\n<td>F 50-54</td>\\n<td>2 of 9</td>\\n<td>1:00:09</td>\\n<td>1:36:22</td>\\n</tr>, <tr>\\n<td>62</td>\\n<td>1388</td>\\n<td>ALISA MUKAI</td>\\n<td>F</td>\\n<td>42</td>\\n<td>PORTLAND</td>\\n<td>OR</td>\\n<td>36:27</td>\\n<td>11:45</td>\\n<td>32 of 79</td>\\n<td>F 40-44</td>\\n<td>9 of 20</td>\\n<td>1:02:34</td>\\n<td>1:39:01</td>\\n</tr>, <tr>\\n<td>63</td>\\n<td>1389</td>\\n<td>PAUL MUKAI</td>\\n<td>M</td>\\n<td>45</td>\\n<td>PORTLAND</td>\\n<td>OR</td>\\n<td>36:29</td>\\n<td>11:46</td>\\n<td>31 of 44</td>\\n<td>M 45-49</td>\\n<td>4 of 5</td>\\n<td>1:02:33</td>\\n<td>1:39:02</td>\\n</tr>, <tr>\\n<td>64</td>\\n<td>1413</td>\\n<td>SARAH HENCH</td>\\n<td>F</td>\\n<td>35</td>\\n<td>PORTLAND</td>\\n<td>OR</td>\\n<td>36:50</td>\\n<td>11:53</td>\\n<td>33 of 79</td>\\n<td>F 35-39</td>\\n<td>9 of 17</td>\\n<td>2:01:10</td>\\n<td>2:38:00</td>\\n</tr>, <tr>\\n<td>65</td>\\n<td>1449</td>\\n<td>TERRY WADE</td>\\n<td>F</td>\\n<td>67</td>\\n<td>PORTLAND</td>\\n<td>OR</td>\\n<td>37:09</td>\\n<td>11:59</td>\\n<td>34 of 79</td>\\n<td>F 65-69</td>\\n<td>1 of 2</td>\\n<td>0:54</td>\\n<td>38:03</td>\\n</tr>, <tr>\\n<td>66</td>\\n<td>1326</td>\\n<td>CARMEN MOORE</td>\\n<td>F</td>\\n<td>53</td>\\n<td>PORTLAND</td>\\n<td>OR</td>\\n<td>37:35</td>\\n<td>12:07</td>\\n<td>35 of 79</td>\\n<td>F 50-54</td>\\n<td>3 of 9</td>\\n<td>1:01:12</td>\\n<td>1:38:47</td>\\n</tr>, <tr>\\n<td>67</td>\\n<td>1400</td>\\n<td>GABE LITKIE</td>\\n<td>M</td>\\n<td>13</td>\\n<td>BATTLE GROUND</td>\\n<td>WA</td>\\n<td>37:53</td>\\n<td>12:13</td>\\n<td>32 of 44</td>\\n<td>M 10-14</td>\\n<td>2 of 3</td>\\n<td>1:01:01</td>\\n<td>1:38:54</td>\\n</tr>, <tr>\\n<td>68</td>\\n<td>1317</td>\\n<td>SUZIE CURTIS</td>\\n<td>F</td>\\n<td>39</td>\\n<td>FOREST GROVE</td>\\n<td>OR</td>\\n<td>39:04</td>\\n<td>12:36</td>\\n<td>36 of 79</td>\\n<td>F 35-39</td>\\n<td>10 of 17</td>\\n<td>0:47</td>\\n<td>39:51</td>\\n</tr>, <tr>\\n<td>69</td>\\n<td>1316</td>\\n<td>KARI ESKINS</td>\\n<td>F</td>\\n<td>30</td>\\n<td>FOREST GROVE</td>\\n<td>OR</td>\\n<td>39:05</td>\\n<td>12:36</td>\\n<td>37 of 79</td>\\n<td>F 30-34</td>\\n<td>5 of 7</td>\\n<td>0:47</td>\\n<td>39:52</td>\\n</tr>, <tr>\\n<td>70</td>\\n<td>1360</td>\\n<td>VALERIE CHEELEY</td>\\n<td>F</td>\\n<td>39</td>\\n<td>CLACKAMAD</td>\\n<td>OR</td>\\n<td>39:29</td>\\n<td>12:44</td>\\n<td>38 of 79</td>\\n<td>F 35-39</td>\\n<td>11 of 17</td>\\n<td>0:48</td>\\n<td>40:17</td>\\n</tr>, <tr>\\n<td>71</td>\\n<td>1334</td>\\n<td>DAVE SCOTT</td>\\n<td>M</td>\\n<td>65</td>\\n<td>GRESHAM</td>\\n<td>OR</td>\\n<td>39:46</td>\\n<td>12:49</td>\\n<td>33 of 44</td>\\n<td>M 65-69</td>\\n<td>2 of 4</td>\\n<td>1:27</td>\\n<td>41:13</td>\\n</tr>, <tr>\\n<td>72</td>\\n<td>1354</td>\\n<td>CARA GEIGER</td>\\n<td>F</td>\\n<td>57</td>\\n<td>WASHOUGAL</td>\\n<td>WA</td>\\n<td>39:53</td>\\n<td>12:51</td>\\n<td>39 of 79</td>\\n<td>F 55-59</td>\\n<td>2 of 4</td>\\n<td>0:48</td>\\n<td>40:41</td>\\n</tr>, <tr>\\n<td>73</td>\\n<td>1366</td>\\n<td>MEGAN HUBBARD</td>\\n<td>F</td>\\n<td>43</td>\\n<td>CASTLE ROCK</td>\\n<td>WA</td>\\n<td>39:58</td>\\n<td>12:53</td>\\n<td>40 of 79</td>\\n<td>F 40-44</td>\\n<td>10 of 20</td>\\n<td>2:19</td>\\n<td>42:17</td>\\n</tr>, <tr>\\n<td>74</td>\\n<td>1404</td>\\n<td>LISA RICHARDS</td>\\n<td>F</td>\\n<td>34</td>\\n<td>PORTLAND</td>\\n<td>OR</td>\\n<td>40:07</td>\\n<td>12:56</td>\\n<td>41 of 79</td>\\n<td>F 30-34</td>\\n<td>6 of 7</td>\\n<td>1:06:23</td>\\n<td>1:46:30</td>\\n</tr>, <tr>\\n<td>75</td>\\n<td>1390</td>\\n<td>PAULA ROSE</td>\\n<td>F</td>\\n<td>43</td>\\n<td>DAMASCUS</td>\\n<td>OR</td>\\n<td>40:15</td>\\n<td>12:59</td>\\n<td>42 of 79</td>\\n<td>F 40-44</td>\\n<td>11 of 20</td>\\n<td>1:00:10</td>\\n<td>1:40:25</td>\\n</tr>, <tr>\\n<td>76</td>\\n<td>1393</td>\\n<td>LESLEY HENRY</td>\\n<td>F</td>\\n<td>47</td>\\n<td>WEST LINN</td>\\n<td>OR</td>\\n<td>40:26</td>\\n<td>13:02</td>\\n<td>43 of 79</td>\\n<td>F 45-49</td>\\n<td>6 of 10</td>\\n<td>1:00:05</td>\\n<td>1:40:31</td>\\n</tr>, <tr>\\n<td>77</td>\\n<td>1369</td>\\n<td>CARRIE FUNK</td>\\n<td>F</td>\\n<td>52</td>\\n<td>WILSONVILLE</td>\\n<td>OR</td>\\n<td>40:26</td>\\n<td>13:02</td>\\n<td>44 of 79</td>\\n<td>F 50-54</td>\\n<td>4 of 9</td>\\n<td>0:50</td>\\n<td>41:16</td>\\n</tr>, <tr>\\n<td>78</td>\\n<td>1394</td>\\n<td>HENRY LUKESH</td>\\n<td>M</td>\\n<td>10</td>\\n<td>WEST LINN</td>\\n<td>OR</td>\\n<td>40:27</td>\\n<td>13:03</td>\\n<td>34 of 44</td>\\n<td>M 10-14</td>\\n<td>3 of 3</td>\\n<td>1:00:04</td>\\n<td>1:40:31</td>\\n</tr>, <tr>\\n<td>79</td>\\n<td>1403</td>\\n<td>MEGAN GODFREY</td>\\n<td>F</td>\\n<td>35</td>\\n<td>PORTLAND</td>\\n<td>OR</td>\\n<td>40:34</td>\\n<td>13:05</td>\\n<td>45 of 79</td>\\n<td>F 35-39</td>\\n<td>12 of 17</td>\\n<td>1:05:47</td>\\n<td>1:46:21</td>\\n</tr>, <tr>\\n<td>80</td>\\n<td>1382</td>\\n<td>ZACHARY KALTENBACHER</td>\\n<td>M</td>\\n<td>7</td>\\n<td>PORTLAND</td>\\n<td>OR</td>\\n<td>40:45</td>\\n<td>13:08</td>\\n<td>35 of 44</td>\\n<td>M 9 and Under</td>\\n<td>1 of 1</td>\\n<td>1:02:27</td>\\n<td>1:43:12</td>\\n</tr>, <tr>\\n<td>81</td>\\n<td>1307</td>\\n<td>DANIEL STATES</td>\\n<td>M</td>\\n<td>68</td>\\n<td>HILLSBORO</td>\\n<td>OR</td>\\n<td>40:50</td>\\n<td>13:10</td>\\n<td>36 of 44</td>\\n<td>M 65-69</td>\\n<td>3 of 4</td>\\n<td>1:01:10</td>\\n<td>1:42:00</td>\\n</tr>, <tr>\\n<td>82</td>\\n<td>1414</td>\\n<td>BENJAMIN MORRIS</td>\\n<td>M</td>\\n<td>34</td>\\n<td>PORTLAND</td>\\n<td>OR</td>\\n<td>41:18</td>\\n<td>13:19</td>\\n<td>37 of 44</td>\\n<td>M 30-34</td>\\n<td>2 of 2</td>\\n<td>2:01:11</td>\\n<td>2:42:29</td>\\n</tr>, <tr>\\n<td>83</td>\\n<td>1417</td>\\n<td>YANNICK SCHWARZ</td>\\n<td>M</td>\\n<td>29</td>\\n<td>IRVING</td>\\n<td>TX</td>\\n<td>41:34</td>\\n<td>13:24</td>\\n<td>38 of 44</td>\\n<td>M 25-29</td>\\n<td>4 of 4</td>\\n<td>2:00:19</td>\\n<td>2:41:53</td>\\n</tr>, <tr>\\n<td>84</td>\\n<td>1410</td>\\n<td>BRITTNEY WARNOCK</td>\\n<td>F</td>\\n<td>22</td>\\n<td>SAINT HELENS</td>\\n<td>OR</td>\\n<td>42:12</td>\\n<td>13:36</td>\\n<td>46 of 79</td>\\n<td>F 20-24</td>\\n<td>1 of 2</td>\\n<td>2:01:11</td>\\n<td>2:43:23</td>\\n</tr>, <tr>\\n<td>85</td>\\n<td>1411</td>\\n<td>KYLE ROBY</td>\\n<td>M</td>\\n<td>24</td>\\n<td>SAINT HELENS</td>\\n<td>OR</td>\\n<td>42:12</td>\\n<td>13:37</td>\\n<td>39 of 44</td>\\n<td>M 20-24</td>\\n<td>2 of 2</td>\\n<td>2:01:11</td>\\n<td>2:43:23</td>\\n</tr>, <tr>\\n<td>86</td>\\n<td>1336</td>\\n<td>BECKY ROBISON</td>\\n<td>F</td>\\n<td>54</td>\\n<td>SALEM</td>\\n<td>OR</td>\\n<td>42:24</td>\\n<td>13:40</td>\\n<td>47 of 79</td>\\n<td>F 50-54</td>\\n<td>5 of 9</td>\\n<td>3:46</td>\\n<td>46:10</td>\\n</tr>, <tr>\\n<td>87</td>\\n<td>1353</td>\\n<td>CORLINDA WOODEN</td>\\n<td>F</td>\\n<td>38</td>\\n<td>OREGON CITY</td>\\n<td>OR</td>\\n<td>42:33</td>\\n<td>13:43</td>\\n<td>48 of 79</td>\\n<td>F 35-39</td>\\n<td>13 of 17</td>\\n<td>2:23</td>\\n<td>44:56</td>\\n</tr>, <tr>\\n<td>88</td>\\n<td>1368</td>\\n<td>DEE DEE PATTERSON</td>\\n<td>F</td>\\n<td>41</td>\\n<td>HOOD RIVER</td>\\n<td>OR</td>\\n<td>42:52</td>\\n<td>13:49</td>\\n<td>49 of 79</td>\\n<td>F 40-44</td>\\n<td>12 of 20</td>\\n<td>0:51</td>\\n<td>43:43</td>\\n</tr>, <tr>\\n<td>89</td>\\n<td>1395</td>\\n<td>EMMA PATTERSON</td>\\n<td>F</td>\\n<td>29</td>\\n<td>PORTLAND</td>\\n<td>OR</td>\\n<td>43:01</td>\\n<td>13:52</td>\\n<td>50 of 79</td>\\n<td>F 25-29</td>\\n<td>3 of 5</td>\\n<td>1:00:12</td>\\n<td>1:43:13</td>\\n</tr>, <tr>\\n<td>90</td>\\n<td>1401</td>\\n<td>PATRICK LITKIE</td>\\n<td>M</td>\\n<td>56</td>\\n<td>BATTLE GROUND</td>\\n<td>WA</td>\\n<td>44:16</td>\\n<td>14:16</td>\\n<td>40 of 44</td>\\n<td>M 55-59</td>\\n<td>4 of 4</td>\\n<td>1:01:02</td>\\n<td>1:45:18</td>\\n</tr>, <tr>\\n<td>91</td>\\n<td>1312</td>\\n<td>JANETTE SILLECK</td>\\n<td>F</td>\\n<td>56</td>\\n<td>BEAVERTON</td>\\n<td>OR</td>\\n<td>44:23</td>\\n<td>14:19</td>\\n<td>51 of 79</td>\\n<td>F 55-59</td>\\n<td>3 of 4</td>\\n<td>1:26</td>\\n<td>45:49</td>\\n</tr>, <tr>\\n<td>92</td>\\n<td>1450</td>\\n<td>KAREN THOMAS</td>\\n<td>F</td>\\n<td>67</td>\\n<td>P</td>\\n<td>OR</td>\\n<td>44:42</td>\\n<td>14:25</td>\\n<td>52 of 79</td>\\n<td>F 65-69</td>\\n<td>2 of 2</td>\\n<td>2:26</td>\\n<td>47:08</td>\\n</tr>, <tr>\\n<td>93</td>\\n<td>1305</td>\\n<td>SHANNON RUARK</td>\\n<td>F</td>\\n<td>44</td>\\n<td>ALOHA</td>\\n<td>OR</td>\\n<td>45:35</td>\\n<td>14:42</td>\\n<td>53 of 79</td>\\n<td>F 40-44</td>\\n<td>13 of 20</td>\\n<td>3:48</td>\\n<td>49:23</td>\\n</tr>, <tr>\\n<td>94</td>\\n<td>1308</td>\\n<td>SUE MCDONALD</td>\\n<td>F</td>\\n<td>63</td>\\n<td>HILLSBORO</td>\\n<td>OR</td>\\n<td>45:42</td>\\n<td>14:44</td>\\n<td>54 of 79</td>\\n<td>F 60-64</td>\\n<td>1 of 1</td>\\n<td>1:01:10</td>\\n<td>1:46:52</td>\\n</tr>, <tr>\\n<td>95</td>\\n<td>1415</td>\\n<td>LANAE ISHMAN-SCHWARZ</td>\\n<td>F</td>\\n<td>26</td>\\n<td>IRVING</td>\\n<td>TX</td>\\n<td>46:25</td>\\n<td>14:58</td>\\n<td>55 of 79</td>\\n<td>F 25-29</td>\\n<td>4 of 5</td>\\n<td>2:00:22</td>\\n<td>2:46:47</td>\\n</tr>]\n"
          ],
          "name": "stdout"
        }
      ]
    },
    {
      "cell_type": "markdown",
      "metadata": {
        "id": "dh1W734t-jPk",
        "colab_type": "text"
      },
      "source": [
        "El objetivo de este tutorial es tomar una tabla de una página web y convertirla en un marco de datos para una manipulación más fácil usando Python. Para llegar allí, primero debe obtener todas las filas de la tabla en forma de lista y luego convertir esa lista en un marco de datos. A continuación se muestra un bucle for que recorre las filas de la tabla e imprime las celdas de las filas."
      ]
    },
    {
      "cell_type": "code",
      "metadata": {
        "id": "nbN25taerIIp",
        "colab_type": "code",
        "colab": {
          "base_uri": "https://localhost:8080/",
          "height": 71
        },
        "outputId": "2511e49a-5a6d-4ed6-80c0-24eacde5e972"
      },
      "source": [
        "for row in rows:\n",
        "    row_td = row.find_all('td')\n",
        "print(row_td)\n",
        "type(row_td)"
      ],
      "execution_count": 67,
      "outputs": [
        {
          "output_type": "stream",
          "text": [
            "[<td>123</td>, <td>1444</td>, <td>DAWN GEOPPINGER</td>, <td>F</td>, <td>40</td>, <td>PORTLAND</td>, <td>OR</td>, <td>2:09:59</td>, <td>41:56</td>, <td>79 of 79</td>, <td>F 40-44</td>, <td>20 of 20</td>, <td>1:02:40</td>, <td>3:12:39</td>]\n"
          ],
          "name": "stdout"
        },
        {
          "output_type": "execute_result",
          "data": {
            "text/plain": [
              "bs4.element.ResultSet"
            ]
          },
          "metadata": {
            "tags": []
          },
          "execution_count": 67
        }
      ]
    },
    {
      "cell_type": "markdown",
      "metadata": {
        "id": "Oij3qGkQ_I1V",
        "colab_type": "text"
      },
      "source": [
        "El resultado anterior muestra que cada fila se imprime con etiquetas html incrustadas en cada fila. Esto no es lo que quieres. Puede usar eliminar las etiquetas html usando Beautiful Soup o expresiones regulares.\n",
        "\n",
        "La forma más fácil de eliminar etiquetas html es usar Beautiful Soup, y solo se necesita una línea de código para hacerlo. Pase la cadena de interés a BeautifulSoup () y use el método get_text () para extraer el texto sin etiquetas html."
      ]
    },
    {
      "cell_type": "code",
      "metadata": {
        "id": "gxEGnQH5rNX4",
        "colab_type": "code",
        "colab": {
          "base_uri": "https://localhost:8080/",
          "height": 34
        },
        "outputId": "2795d379-87bc-49ac-aaa2-8ea44bab1ed0"
      },
      "source": [
        "str_cells = str(row_td)\n",
        "cleantext = BeautifulSoup(str_cells, \"lxml\").get_text()\n",
        "print(cleantext)"
      ],
      "execution_count": 68,
      "outputs": [
        {
          "output_type": "stream",
          "text": [
            "[123, 1444, DAWN GEOPPINGER, F, 40, PORTLAND, OR, 2:09:59, 41:56, 79 of 79, F 40-44, 20 of 20, 1:02:40, 3:12:39]\n"
          ],
          "name": "stdout"
        }
      ]
    },
    {
      "cell_type": "markdown",
      "metadata": {
        "id": "nFBTisNI_VmL",
        "colab_type": "text"
      },
      "source": [
        "Se desaconseja el uso de expresiones regulares, ya que requiere varias líneas de código y uno puede cometer errores fácilmente. Requiere importar el módulo re (para expresiones regulares). El siguiente código muestra cómo crear una expresión regular que encuentre todos los caracteres dentro de las etiquetas <td> html y reemplazarlos con una cadena vacía para cada fila de la tabla. Primero, compila una expresión regular pasando una cadena para que coincida con re.compile (). El punto, la estrella y el signo de interrogación (. *?) Coincidirán con un paréntesis angular de apertura seguido de cualquier cosa y seguido de un paréntesis angular de cierre. Coincide con el texto de una manera no codiciosa, es decir, coincide con la cadena más corta posible. Si omite el signo de interrogación, coincidirá con todo el texto entre el primer paréntesis angular de apertura y el último paréntesis angular de cierre. Después de compilar una expresión regular, puede usar el método re.sub () para buscar todas las subcadenas donde coincida la expresión regular y reemplazarlas con una cadena vacía. El código completo a continuación genera una lista vacía, extrae el texto entre las etiquetas html para cada fila y lo agrega a la lista asignada."
      ]
    },
    {
      "cell_type": "code",
      "metadata": {
        "id": "ynsfqJ2qrUsg",
        "colab_type": "code",
        "colab": {
          "base_uri": "https://localhost:8080/",
          "height": 51
        },
        "outputId": "d72e8c6d-95d0-4569-84f5-4598da2f24eb"
      },
      "source": [
        "import re\n",
        "\n",
        "list_rows = []\n",
        "for row in rows:\n",
        "    cells = row.find_all('td')\n",
        "    str_cells = str(cells)\n",
        "    clean = re.compile('<.*?>')\n",
        "    clean2 = (re.sub(clean, '',str_cells))\n",
        "    list_rows.append(clean2)\n",
        "print(clean2)\n",
        "type(clean2)"
      ],
      "execution_count": 69,
      "outputs": [
        {
          "output_type": "stream",
          "text": [
            "[123, 1444, DAWN GEOPPINGER, F, 40, PORTLAND, OR, 2:09:59, 41:56, 79 of 79, F 40-44, 20 of 20, 1:02:40, 3:12:39]\n"
          ],
          "name": "stdout"
        },
        {
          "output_type": "execute_result",
          "data": {
            "text/plain": [
              "str"
            ]
          },
          "metadata": {
            "tags": []
          },
          "execution_count": 69
        }
      ]
    },
    {
      "cell_type": "markdown",
      "metadata": {
        "id": "F7O9e4Ji_bjj",
        "colab_type": "text"
      },
      "source": [
        "El siguiente paso es convertir la lista en un marco de datos y obtener una vista rápida de las primeras 10 filas con Pandas."
      ]
    },
    {
      "cell_type": "code",
      "metadata": {
        "id": "0yPSl12HrZBF",
        "colab_type": "code",
        "colab": {
          "base_uri": "https://localhost:8080/",
          "height": 359
        },
        "outputId": "50a69f57-8777-4bc2-d6c6-e2ec7712212b"
      },
      "source": [
        "import pandas as pd\n",
        "df = pd.DataFrame(list_rows)\n",
        "df.head(10)"
      ],
      "execution_count": 70,
      "outputs": [
        {
          "output_type": "execute_result",
          "data": {
            "text/html": [
              "<div>\n",
              "<style scoped>\n",
              "    .dataframe tbody tr th:only-of-type {\n",
              "        vertical-align: middle;\n",
              "    }\n",
              "\n",
              "    .dataframe tbody tr th {\n",
              "        vertical-align: top;\n",
              "    }\n",
              "\n",
              "    .dataframe thead th {\n",
              "        text-align: right;\n",
              "    }\n",
              "</style>\n",
              "<table border=\"1\" class=\"dataframe\">\n",
              "  <thead>\n",
              "    <tr style=\"text-align: right;\">\n",
              "      <th></th>\n",
              "      <th>0</th>\n",
              "    </tr>\n",
              "  </thead>\n",
              "  <tbody>\n",
              "    <tr>\n",
              "      <th>0</th>\n",
              "      <td>[]</td>\n",
              "    </tr>\n",
              "    <tr>\n",
              "      <th>1</th>\n",
              "      <td>[Finishers:, 123]</td>\n",
              "    </tr>\n",
              "    <tr>\n",
              "      <th>2</th>\n",
              "      <td>[Male:, 44]</td>\n",
              "    </tr>\n",
              "    <tr>\n",
              "      <th>3</th>\n",
              "      <td>[Female:, 79]</td>\n",
              "    </tr>\n",
              "    <tr>\n",
              "      <th>4</th>\n",
              "      <td>[]</td>\n",
              "    </tr>\n",
              "    <tr>\n",
              "      <th>5</th>\n",
              "      <td>[1, 1378, BRADY BEAGLEY, M, 27, PORTLAND, OR, ...</td>\n",
              "    </tr>\n",
              "    <tr>\n",
              "      <th>6</th>\n",
              "      <td>[2, 1302, SCOTT GULLICKSON, M, 55, RIDGEFIELD,...</td>\n",
              "    </tr>\n",
              "    <tr>\n",
              "      <th>7</th>\n",
              "      <td>[3, 1364, JAMES DAVIS, M, 15, SHERWOOD, OR, 22...</td>\n",
              "    </tr>\n",
              "    <tr>\n",
              "      <th>8</th>\n",
              "      <td>[4, 1330, KEVIN ERICKSON, M, 34, VANCOUVER, WA...</td>\n",
              "    </tr>\n",
              "    <tr>\n",
              "      <th>9</th>\n",
              "      <td>[5, 1372, STEPHEN WILLIAMS, M, 24, PORTLAND, O...</td>\n",
              "    </tr>\n",
              "  </tbody>\n",
              "</table>\n",
              "</div>"
            ],
            "text/plain": [
              "                                                   0\n",
              "0                                                 []\n",
              "1                                  [Finishers:, 123]\n",
              "2                                        [Male:, 44]\n",
              "3                                      [Female:, 79]\n",
              "4                                                 []\n",
              "5  [1, 1378, BRADY BEAGLEY, M, 27, PORTLAND, OR, ...\n",
              "6  [2, 1302, SCOTT GULLICKSON, M, 55, RIDGEFIELD,...\n",
              "7  [3, 1364, JAMES DAVIS, M, 15, SHERWOOD, OR, 22...\n",
              "8  [4, 1330, KEVIN ERICKSON, M, 34, VANCOUVER, WA...\n",
              "9  [5, 1372, STEPHEN WILLIAMS, M, 24, PORTLAND, O..."
            ]
          },
          "metadata": {
            "tags": []
          },
          "execution_count": 70
        }
      ]
    },
    {
      "cell_type": "markdown",
      "metadata": {
        "id": "u00fI7h3_sc9",
        "colab_type": "text"
      },
      "source": [
        "# **Manipulación y limpieza de datos**\n",
        "\n",
        "El marco de datos no está en el formato que queremos. Para limpiarlo, debe dividir la columna \"0\" en varias columnas en la posición de coma. Esto se logra utilizando el método str.split ()."
      ]
    },
    {
      "cell_type": "code",
      "metadata": {
        "id": "fRq6RQh2rkn0",
        "colab_type": "code",
        "colab": {
          "base_uri": "https://localhost:8080/",
          "height": 359
        },
        "outputId": "f350cc65-9ed2-403a-ecc0-7e48db25ac21"
      },
      "source": [
        "df1 = df[0].str.split(',', expand=True)\n",
        "df1.head(10)"
      ],
      "execution_count": 71,
      "outputs": [
        {
          "output_type": "execute_result",
          "data": {
            "text/html": [
              "<div>\n",
              "<style scoped>\n",
              "    .dataframe tbody tr th:only-of-type {\n",
              "        vertical-align: middle;\n",
              "    }\n",
              "\n",
              "    .dataframe tbody tr th {\n",
              "        vertical-align: top;\n",
              "    }\n",
              "\n",
              "    .dataframe thead th {\n",
              "        text-align: right;\n",
              "    }\n",
              "</style>\n",
              "<table border=\"1\" class=\"dataframe\">\n",
              "  <thead>\n",
              "    <tr style=\"text-align: right;\">\n",
              "      <th></th>\n",
              "      <th>0</th>\n",
              "      <th>1</th>\n",
              "      <th>2</th>\n",
              "      <th>3</th>\n",
              "      <th>4</th>\n",
              "      <th>5</th>\n",
              "      <th>6</th>\n",
              "      <th>7</th>\n",
              "      <th>8</th>\n",
              "      <th>9</th>\n",
              "      <th>10</th>\n",
              "      <th>11</th>\n",
              "      <th>12</th>\n",
              "      <th>13</th>\n",
              "    </tr>\n",
              "  </thead>\n",
              "  <tbody>\n",
              "    <tr>\n",
              "      <th>0</th>\n",
              "      <td>[]</td>\n",
              "      <td>None</td>\n",
              "      <td>None</td>\n",
              "      <td>None</td>\n",
              "      <td>None</td>\n",
              "      <td>None</td>\n",
              "      <td>None</td>\n",
              "      <td>None</td>\n",
              "      <td>None</td>\n",
              "      <td>None</td>\n",
              "      <td>None</td>\n",
              "      <td>None</td>\n",
              "      <td>None</td>\n",
              "      <td>None</td>\n",
              "    </tr>\n",
              "    <tr>\n",
              "      <th>1</th>\n",
              "      <td>[Finishers:</td>\n",
              "      <td>123]</td>\n",
              "      <td>None</td>\n",
              "      <td>None</td>\n",
              "      <td>None</td>\n",
              "      <td>None</td>\n",
              "      <td>None</td>\n",
              "      <td>None</td>\n",
              "      <td>None</td>\n",
              "      <td>None</td>\n",
              "      <td>None</td>\n",
              "      <td>None</td>\n",
              "      <td>None</td>\n",
              "      <td>None</td>\n",
              "    </tr>\n",
              "    <tr>\n",
              "      <th>2</th>\n",
              "      <td>[Male:</td>\n",
              "      <td>44]</td>\n",
              "      <td>None</td>\n",
              "      <td>None</td>\n",
              "      <td>None</td>\n",
              "      <td>None</td>\n",
              "      <td>None</td>\n",
              "      <td>None</td>\n",
              "      <td>None</td>\n",
              "      <td>None</td>\n",
              "      <td>None</td>\n",
              "      <td>None</td>\n",
              "      <td>None</td>\n",
              "      <td>None</td>\n",
              "    </tr>\n",
              "    <tr>\n",
              "      <th>3</th>\n",
              "      <td>[Female:</td>\n",
              "      <td>79]</td>\n",
              "      <td>None</td>\n",
              "      <td>None</td>\n",
              "      <td>None</td>\n",
              "      <td>None</td>\n",
              "      <td>None</td>\n",
              "      <td>None</td>\n",
              "      <td>None</td>\n",
              "      <td>None</td>\n",
              "      <td>None</td>\n",
              "      <td>None</td>\n",
              "      <td>None</td>\n",
              "      <td>None</td>\n",
              "    </tr>\n",
              "    <tr>\n",
              "      <th>4</th>\n",
              "      <td>[]</td>\n",
              "      <td>None</td>\n",
              "      <td>None</td>\n",
              "      <td>None</td>\n",
              "      <td>None</td>\n",
              "      <td>None</td>\n",
              "      <td>None</td>\n",
              "      <td>None</td>\n",
              "      <td>None</td>\n",
              "      <td>None</td>\n",
              "      <td>None</td>\n",
              "      <td>None</td>\n",
              "      <td>None</td>\n",
              "      <td>None</td>\n",
              "    </tr>\n",
              "    <tr>\n",
              "      <th>5</th>\n",
              "      <td>[1</td>\n",
              "      <td>1378</td>\n",
              "      <td>BRADY BEAGLEY</td>\n",
              "      <td>M</td>\n",
              "      <td>27</td>\n",
              "      <td>PORTLAND</td>\n",
              "      <td>OR</td>\n",
              "      <td>19:17</td>\n",
              "      <td>6:13</td>\n",
              "      <td>1 of 44</td>\n",
              "      <td>M 25-29</td>\n",
              "      <td>1 of 4</td>\n",
              "      <td>1:00:02</td>\n",
              "      <td>1:19:19]</td>\n",
              "    </tr>\n",
              "    <tr>\n",
              "      <th>6</th>\n",
              "      <td>[2</td>\n",
              "      <td>1302</td>\n",
              "      <td>SCOTT GULLICKSON</td>\n",
              "      <td>M</td>\n",
              "      <td>55</td>\n",
              "      <td>RIDGEFIELD</td>\n",
              "      <td>WA</td>\n",
              "      <td>20:55</td>\n",
              "      <td>6:45</td>\n",
              "      <td>2 of 44</td>\n",
              "      <td>M 55-59</td>\n",
              "      <td>1 of 4</td>\n",
              "      <td>1:00:01</td>\n",
              "      <td>1:20:56]</td>\n",
              "    </tr>\n",
              "    <tr>\n",
              "      <th>7</th>\n",
              "      <td>[3</td>\n",
              "      <td>1364</td>\n",
              "      <td>JAMES DAVIS</td>\n",
              "      <td>M</td>\n",
              "      <td>15</td>\n",
              "      <td>SHERWOOD</td>\n",
              "      <td>OR</td>\n",
              "      <td>22:47</td>\n",
              "      <td>7:21</td>\n",
              "      <td>3 of 44</td>\n",
              "      <td>M 15-19</td>\n",
              "      <td>1 of 1</td>\n",
              "      <td>0:04</td>\n",
              "      <td>22:51]</td>\n",
              "    </tr>\n",
              "    <tr>\n",
              "      <th>8</th>\n",
              "      <td>[4</td>\n",
              "      <td>1330</td>\n",
              "      <td>KEVIN ERICKSON</td>\n",
              "      <td>M</td>\n",
              "      <td>34</td>\n",
              "      <td>VANCOUVER</td>\n",
              "      <td>WA</td>\n",
              "      <td>22:52</td>\n",
              "      <td>7:22</td>\n",
              "      <td>4 of 44</td>\n",
              "      <td>M 30-34</td>\n",
              "      <td>1 of 2</td>\n",
              "      <td>0:03</td>\n",
              "      <td>22:55]</td>\n",
              "    </tr>\n",
              "    <tr>\n",
              "      <th>9</th>\n",
              "      <td>[5</td>\n",
              "      <td>1372</td>\n",
              "      <td>STEPHEN WILLIAMS</td>\n",
              "      <td>M</td>\n",
              "      <td>24</td>\n",
              "      <td>PORTLAND</td>\n",
              "      <td>OR</td>\n",
              "      <td>24:23</td>\n",
              "      <td>7:52</td>\n",
              "      <td>5 of 44</td>\n",
              "      <td>M 20-24</td>\n",
              "      <td>1 of 2</td>\n",
              "      <td>0:15</td>\n",
              "      <td>24:38]</td>\n",
              "    </tr>\n",
              "  </tbody>\n",
              "</table>\n",
              "</div>"
            ],
            "text/plain": [
              "            0      1                  2   ...       11        12         13\n",
              "0           []   None               None  ...     None      None       None\n",
              "1  [Finishers:   123]               None  ...     None      None       None\n",
              "2       [Male:    44]               None  ...     None      None       None\n",
              "3     [Female:    79]               None  ...     None      None       None\n",
              "4           []   None               None  ...     None      None       None\n",
              "5           [1   1378      BRADY BEAGLEY  ...   1 of 4   1:00:02   1:19:19]\n",
              "6           [2   1302   SCOTT GULLICKSON  ...   1 of 4   1:00:01   1:20:56]\n",
              "7           [3   1364        JAMES DAVIS  ...   1 of 1      0:04     22:51]\n",
              "8           [4   1330     KEVIN ERICKSON  ...   1 of 2      0:03     22:55]\n",
              "9           [5   1372   STEPHEN WILLIAMS  ...   1 of 2      0:15     24:38]\n",
              "\n",
              "[10 rows x 14 columns]"
            ]
          },
          "metadata": {
            "tags": []
          },
          "execution_count": 71
        }
      ]
    },
    {
      "cell_type": "markdown",
      "metadata": {
        "id": "EdkwAHvHAGka",
        "colab_type": "text"
      },
      "source": [
        "Esto se ve mucho mejor, pero aún queda trabajo por hacer. El marco de datos tiene corchetes no deseados que rodean cada fila. Puede usar el método strip () para quitar el corchete de apertura en la columna \"0\"."
      ]
    },
    {
      "cell_type": "code",
      "metadata": {
        "id": "LZs5GIzyrqtV",
        "colab_type": "code",
        "colab": {
          "base_uri": "https://localhost:8080/",
          "height": 359
        },
        "outputId": "c78e6e86-a855-4991-910f-4b0875e40c93"
      },
      "source": [
        "df1[0] = df1[0].str.strip('[')\n",
        "df1[0] = df1[0].str.strip(']')\n",
        "df1.head(10)"
      ],
      "execution_count": 72,
      "outputs": [
        {
          "output_type": "execute_result",
          "data": {
            "text/html": [
              "<div>\n",
              "<style scoped>\n",
              "    .dataframe tbody tr th:only-of-type {\n",
              "        vertical-align: middle;\n",
              "    }\n",
              "\n",
              "    .dataframe tbody tr th {\n",
              "        vertical-align: top;\n",
              "    }\n",
              "\n",
              "    .dataframe thead th {\n",
              "        text-align: right;\n",
              "    }\n",
              "</style>\n",
              "<table border=\"1\" class=\"dataframe\">\n",
              "  <thead>\n",
              "    <tr style=\"text-align: right;\">\n",
              "      <th></th>\n",
              "      <th>0</th>\n",
              "      <th>1</th>\n",
              "      <th>2</th>\n",
              "      <th>3</th>\n",
              "      <th>4</th>\n",
              "      <th>5</th>\n",
              "      <th>6</th>\n",
              "      <th>7</th>\n",
              "      <th>8</th>\n",
              "      <th>9</th>\n",
              "      <th>10</th>\n",
              "      <th>11</th>\n",
              "      <th>12</th>\n",
              "      <th>13</th>\n",
              "    </tr>\n",
              "  </thead>\n",
              "  <tbody>\n",
              "    <tr>\n",
              "      <th>0</th>\n",
              "      <td></td>\n",
              "      <td>None</td>\n",
              "      <td>None</td>\n",
              "      <td>None</td>\n",
              "      <td>None</td>\n",
              "      <td>None</td>\n",
              "      <td>None</td>\n",
              "      <td>None</td>\n",
              "      <td>None</td>\n",
              "      <td>None</td>\n",
              "      <td>None</td>\n",
              "      <td>None</td>\n",
              "      <td>None</td>\n",
              "      <td>None</td>\n",
              "    </tr>\n",
              "    <tr>\n",
              "      <th>1</th>\n",
              "      <td>Finishers:</td>\n",
              "      <td>123]</td>\n",
              "      <td>None</td>\n",
              "      <td>None</td>\n",
              "      <td>None</td>\n",
              "      <td>None</td>\n",
              "      <td>None</td>\n",
              "      <td>None</td>\n",
              "      <td>None</td>\n",
              "      <td>None</td>\n",
              "      <td>None</td>\n",
              "      <td>None</td>\n",
              "      <td>None</td>\n",
              "      <td>None</td>\n",
              "    </tr>\n",
              "    <tr>\n",
              "      <th>2</th>\n",
              "      <td>Male:</td>\n",
              "      <td>44]</td>\n",
              "      <td>None</td>\n",
              "      <td>None</td>\n",
              "      <td>None</td>\n",
              "      <td>None</td>\n",
              "      <td>None</td>\n",
              "      <td>None</td>\n",
              "      <td>None</td>\n",
              "      <td>None</td>\n",
              "      <td>None</td>\n",
              "      <td>None</td>\n",
              "      <td>None</td>\n",
              "      <td>None</td>\n",
              "    </tr>\n",
              "    <tr>\n",
              "      <th>3</th>\n",
              "      <td>Female:</td>\n",
              "      <td>79]</td>\n",
              "      <td>None</td>\n",
              "      <td>None</td>\n",
              "      <td>None</td>\n",
              "      <td>None</td>\n",
              "      <td>None</td>\n",
              "      <td>None</td>\n",
              "      <td>None</td>\n",
              "      <td>None</td>\n",
              "      <td>None</td>\n",
              "      <td>None</td>\n",
              "      <td>None</td>\n",
              "      <td>None</td>\n",
              "    </tr>\n",
              "    <tr>\n",
              "      <th>4</th>\n",
              "      <td></td>\n",
              "      <td>None</td>\n",
              "      <td>None</td>\n",
              "      <td>None</td>\n",
              "      <td>None</td>\n",
              "      <td>None</td>\n",
              "      <td>None</td>\n",
              "      <td>None</td>\n",
              "      <td>None</td>\n",
              "      <td>None</td>\n",
              "      <td>None</td>\n",
              "      <td>None</td>\n",
              "      <td>None</td>\n",
              "      <td>None</td>\n",
              "    </tr>\n",
              "    <tr>\n",
              "      <th>5</th>\n",
              "      <td>1</td>\n",
              "      <td>1378</td>\n",
              "      <td>BRADY BEAGLEY</td>\n",
              "      <td>M</td>\n",
              "      <td>27</td>\n",
              "      <td>PORTLAND</td>\n",
              "      <td>OR</td>\n",
              "      <td>19:17</td>\n",
              "      <td>6:13</td>\n",
              "      <td>1 of 44</td>\n",
              "      <td>M 25-29</td>\n",
              "      <td>1 of 4</td>\n",
              "      <td>1:00:02</td>\n",
              "      <td>1:19:19]</td>\n",
              "    </tr>\n",
              "    <tr>\n",
              "      <th>6</th>\n",
              "      <td>2</td>\n",
              "      <td>1302</td>\n",
              "      <td>SCOTT GULLICKSON</td>\n",
              "      <td>M</td>\n",
              "      <td>55</td>\n",
              "      <td>RIDGEFIELD</td>\n",
              "      <td>WA</td>\n",
              "      <td>20:55</td>\n",
              "      <td>6:45</td>\n",
              "      <td>2 of 44</td>\n",
              "      <td>M 55-59</td>\n",
              "      <td>1 of 4</td>\n",
              "      <td>1:00:01</td>\n",
              "      <td>1:20:56]</td>\n",
              "    </tr>\n",
              "    <tr>\n",
              "      <th>7</th>\n",
              "      <td>3</td>\n",
              "      <td>1364</td>\n",
              "      <td>JAMES DAVIS</td>\n",
              "      <td>M</td>\n",
              "      <td>15</td>\n",
              "      <td>SHERWOOD</td>\n",
              "      <td>OR</td>\n",
              "      <td>22:47</td>\n",
              "      <td>7:21</td>\n",
              "      <td>3 of 44</td>\n",
              "      <td>M 15-19</td>\n",
              "      <td>1 of 1</td>\n",
              "      <td>0:04</td>\n",
              "      <td>22:51]</td>\n",
              "    </tr>\n",
              "    <tr>\n",
              "      <th>8</th>\n",
              "      <td>4</td>\n",
              "      <td>1330</td>\n",
              "      <td>KEVIN ERICKSON</td>\n",
              "      <td>M</td>\n",
              "      <td>34</td>\n",
              "      <td>VANCOUVER</td>\n",
              "      <td>WA</td>\n",
              "      <td>22:52</td>\n",
              "      <td>7:22</td>\n",
              "      <td>4 of 44</td>\n",
              "      <td>M 30-34</td>\n",
              "      <td>1 of 2</td>\n",
              "      <td>0:03</td>\n",
              "      <td>22:55]</td>\n",
              "    </tr>\n",
              "    <tr>\n",
              "      <th>9</th>\n",
              "      <td>5</td>\n",
              "      <td>1372</td>\n",
              "      <td>STEPHEN WILLIAMS</td>\n",
              "      <td>M</td>\n",
              "      <td>24</td>\n",
              "      <td>PORTLAND</td>\n",
              "      <td>OR</td>\n",
              "      <td>24:23</td>\n",
              "      <td>7:52</td>\n",
              "      <td>5 of 44</td>\n",
              "      <td>M 20-24</td>\n",
              "      <td>1 of 2</td>\n",
              "      <td>0:15</td>\n",
              "      <td>24:38]</td>\n",
              "    </tr>\n",
              "  </tbody>\n",
              "</table>\n",
              "</div>"
            ],
            "text/plain": [
              "           0      1                  2   ...       11        12         13\n",
              "0               None               None  ...     None      None       None\n",
              "1  Finishers:   123]               None  ...     None      None       None\n",
              "2       Male:    44]               None  ...     None      None       None\n",
              "3     Female:    79]               None  ...     None      None       None\n",
              "4               None               None  ...     None      None       None\n",
              "5           1   1378      BRADY BEAGLEY  ...   1 of 4   1:00:02   1:19:19]\n",
              "6           2   1302   SCOTT GULLICKSON  ...   1 of 4   1:00:01   1:20:56]\n",
              "7           3   1364        JAMES DAVIS  ...   1 of 1      0:04     22:51]\n",
              "8           4   1330     KEVIN ERICKSON  ...   1 of 2      0:03     22:55]\n",
              "9           5   1372   STEPHEN WILLIAMS  ...   1 of 2      0:15     24:38]\n",
              "\n",
              "[10 rows x 14 columns]"
            ]
          },
          "metadata": {
            "tags": []
          },
          "execution_count": 72
        }
      ]
    },
    {
      "cell_type": "markdown",
      "metadata": {
        "id": "TWxTAss2AQBD",
        "colab_type": "text"
      },
      "source": [
        "A la tabla le faltan encabezados de tabla. Puede usar el método find_all () para obtener los encabezados de la tabla."
      ]
    },
    {
      "cell_type": "code",
      "metadata": {
        "id": "2tTy2E5OryEN",
        "colab_type": "code",
        "colab": {}
      },
      "source": [
        "col_labels = soup.find_all('th')"
      ],
      "execution_count": 0,
      "outputs": []
    },
    {
      "cell_type": "markdown",
      "metadata": {
        "id": "CI99n-x-AVyD",
        "colab_type": "text"
      },
      "source": [
        "Similar a las filas de la tabla, puede usar Beautiful Soup para extraer texto entre etiquetas html para encabezados de tabla."
      ]
    },
    {
      "cell_type": "code",
      "metadata": {
        "id": "dX8UoCrNr33H",
        "colab_type": "code",
        "colab": {
          "base_uri": "https://localhost:8080/",
          "height": 34
        },
        "outputId": "2c435d85-0ad0-4f35-e929-a60f06899369"
      },
      "source": [
        "all_header = []\n",
        "col_str = str(col_labels)\n",
        "cleantext2 = BeautifulSoup(col_str, \"lxml\").get_text()\n",
        "all_header.append(cleantext2)\n",
        "print(all_header)"
      ],
      "execution_count": 74,
      "outputs": [
        {
          "output_type": "stream",
          "text": [
            "[u'[Place, Bib, Name, Gender, Age, City, State, Chip Time, Chip Pace, Gender Place, Age Group, Age Group Place, Time to Start, Gun Time]']\n"
          ],
          "name": "stdout"
        }
      ]
    },
    {
      "cell_type": "markdown",
      "metadata": {
        "id": "PzXSHIsoAd3S",
        "colab_type": "text"
      },
      "source": [
        "Luego puede convertir la lista de encabezados en un marco de datos de pandas."
      ]
    },
    {
      "cell_type": "code",
      "metadata": {
        "id": "ZeeWKEghr8-D",
        "colab_type": "code",
        "colab": {
          "base_uri": "https://localhost:8080/",
          "height": 34
        },
        "outputId": "c0dbfff5-b6b2-4dd5-998b-76d4499a443e"
      },
      "source": [
        "df2 = pd.DataFrame(all_header)\n",
        "all_header"
      ],
      "execution_count": 75,
      "outputs": [
        {
          "output_type": "execute_result",
          "data": {
            "text/plain": [
              "[u'[Place, Bib, Name, Gender, Age, City, State, Chip Time, Chip Pace, Gender Place, Age Group, Age Group Place, Time to Start, Gun Time]']"
            ]
          },
          "metadata": {
            "tags": []
          },
          "execution_count": 75
        }
      ]
    },
    {
      "cell_type": "markdown",
      "metadata": {
        "id": "O5wSXDH4AgRU",
        "colab_type": "text"
      },
      "source": [
        "Del mismo modo, puede dividir la columna \"0\" en varias columnas en la posición de coma para todas las filas."
      ]
    },
    {
      "cell_type": "code",
      "metadata": {
        "id": "M5QfBIEwsDT7",
        "colab_type": "code",
        "colab": {
          "base_uri": "https://localhost:8080/",
          "height": 80
        },
        "outputId": "c1404c9f-9e2a-4ef6-e44d-9269aa5a3305"
      },
      "source": [
        "df3 = df2[0].str.split(',', expand=True)\n",
        "df3.head()"
      ],
      "execution_count": 76,
      "outputs": [
        {
          "output_type": "execute_result",
          "data": {
            "text/html": [
              "<div>\n",
              "<style scoped>\n",
              "    .dataframe tbody tr th:only-of-type {\n",
              "        vertical-align: middle;\n",
              "    }\n",
              "\n",
              "    .dataframe tbody tr th {\n",
              "        vertical-align: top;\n",
              "    }\n",
              "\n",
              "    .dataframe thead th {\n",
              "        text-align: right;\n",
              "    }\n",
              "</style>\n",
              "<table border=\"1\" class=\"dataframe\">\n",
              "  <thead>\n",
              "    <tr style=\"text-align: right;\">\n",
              "      <th></th>\n",
              "      <th>0</th>\n",
              "      <th>1</th>\n",
              "      <th>2</th>\n",
              "      <th>3</th>\n",
              "      <th>4</th>\n",
              "      <th>5</th>\n",
              "      <th>6</th>\n",
              "      <th>7</th>\n",
              "      <th>8</th>\n",
              "      <th>9</th>\n",
              "      <th>10</th>\n",
              "      <th>11</th>\n",
              "      <th>12</th>\n",
              "      <th>13</th>\n",
              "    </tr>\n",
              "  </thead>\n",
              "  <tbody>\n",
              "    <tr>\n",
              "      <th>0</th>\n",
              "      <td>[Place</td>\n",
              "      <td>Bib</td>\n",
              "      <td>Name</td>\n",
              "      <td>Gender</td>\n",
              "      <td>Age</td>\n",
              "      <td>City</td>\n",
              "      <td>State</td>\n",
              "      <td>Chip Time</td>\n",
              "      <td>Chip Pace</td>\n",
              "      <td>Gender Place</td>\n",
              "      <td>Age Group</td>\n",
              "      <td>Age Group Place</td>\n",
              "      <td>Time to Start</td>\n",
              "      <td>Gun Time]</td>\n",
              "    </tr>\n",
              "  </tbody>\n",
              "</table>\n",
              "</div>"
            ],
            "text/plain": [
              "       0     1      2   ...                11              12          13\n",
              "0  [Place   Bib   Name  ...   Age Group Place   Time to Start   Gun Time]\n",
              "\n",
              "[1 rows x 14 columns]"
            ]
          },
          "metadata": {
            "tags": []
          },
          "execution_count": 76
        }
      ]
    },
    {
      "cell_type": "markdown",
      "metadata": {
        "id": "ETJgfRLjuf8e",
        "colab_type": "text"
      },
      "source": [
        "Los dos marcos de datos se pueden concatenar en uno usando el método concat () como se ilustra a continuación."
      ]
    },
    {
      "cell_type": "code",
      "metadata": {
        "id": "aVRHhQ1VsKyV",
        "colab_type": "code",
        "colab": {
          "base_uri": "https://localhost:8080/",
          "height": 359
        },
        "outputId": "ba049758-921b-4059-8b5a-0ef1ab19114a"
      },
      "source": [
        "frames = [df3, df1]\n",
        "\n",
        "df4 = pd.concat(frames)\n",
        "df4.head(10)"
      ],
      "execution_count": 77,
      "outputs": [
        {
          "output_type": "execute_result",
          "data": {
            "text/html": [
              "<div>\n",
              "<style scoped>\n",
              "    .dataframe tbody tr th:only-of-type {\n",
              "        vertical-align: middle;\n",
              "    }\n",
              "\n",
              "    .dataframe tbody tr th {\n",
              "        vertical-align: top;\n",
              "    }\n",
              "\n",
              "    .dataframe thead th {\n",
              "        text-align: right;\n",
              "    }\n",
              "</style>\n",
              "<table border=\"1\" class=\"dataframe\">\n",
              "  <thead>\n",
              "    <tr style=\"text-align: right;\">\n",
              "      <th></th>\n",
              "      <th>0</th>\n",
              "      <th>1</th>\n",
              "      <th>2</th>\n",
              "      <th>3</th>\n",
              "      <th>4</th>\n",
              "      <th>5</th>\n",
              "      <th>6</th>\n",
              "      <th>7</th>\n",
              "      <th>8</th>\n",
              "      <th>9</th>\n",
              "      <th>10</th>\n",
              "      <th>11</th>\n",
              "      <th>12</th>\n",
              "      <th>13</th>\n",
              "    </tr>\n",
              "  </thead>\n",
              "  <tbody>\n",
              "    <tr>\n",
              "      <th>0</th>\n",
              "      <td>[Place</td>\n",
              "      <td>Bib</td>\n",
              "      <td>Name</td>\n",
              "      <td>Gender</td>\n",
              "      <td>Age</td>\n",
              "      <td>City</td>\n",
              "      <td>State</td>\n",
              "      <td>Chip Time</td>\n",
              "      <td>Chip Pace</td>\n",
              "      <td>Gender Place</td>\n",
              "      <td>Age Group</td>\n",
              "      <td>Age Group Place</td>\n",
              "      <td>Time to Start</td>\n",
              "      <td>Gun Time]</td>\n",
              "    </tr>\n",
              "    <tr>\n",
              "      <th>0</th>\n",
              "      <td></td>\n",
              "      <td>None</td>\n",
              "      <td>None</td>\n",
              "      <td>None</td>\n",
              "      <td>None</td>\n",
              "      <td>None</td>\n",
              "      <td>None</td>\n",
              "      <td>None</td>\n",
              "      <td>None</td>\n",
              "      <td>None</td>\n",
              "      <td>None</td>\n",
              "      <td>None</td>\n",
              "      <td>None</td>\n",
              "      <td>None</td>\n",
              "    </tr>\n",
              "    <tr>\n",
              "      <th>1</th>\n",
              "      <td>Finishers:</td>\n",
              "      <td>123]</td>\n",
              "      <td>None</td>\n",
              "      <td>None</td>\n",
              "      <td>None</td>\n",
              "      <td>None</td>\n",
              "      <td>None</td>\n",
              "      <td>None</td>\n",
              "      <td>None</td>\n",
              "      <td>None</td>\n",
              "      <td>None</td>\n",
              "      <td>None</td>\n",
              "      <td>None</td>\n",
              "      <td>None</td>\n",
              "    </tr>\n",
              "    <tr>\n",
              "      <th>2</th>\n",
              "      <td>Male:</td>\n",
              "      <td>44]</td>\n",
              "      <td>None</td>\n",
              "      <td>None</td>\n",
              "      <td>None</td>\n",
              "      <td>None</td>\n",
              "      <td>None</td>\n",
              "      <td>None</td>\n",
              "      <td>None</td>\n",
              "      <td>None</td>\n",
              "      <td>None</td>\n",
              "      <td>None</td>\n",
              "      <td>None</td>\n",
              "      <td>None</td>\n",
              "    </tr>\n",
              "    <tr>\n",
              "      <th>3</th>\n",
              "      <td>Female:</td>\n",
              "      <td>79]</td>\n",
              "      <td>None</td>\n",
              "      <td>None</td>\n",
              "      <td>None</td>\n",
              "      <td>None</td>\n",
              "      <td>None</td>\n",
              "      <td>None</td>\n",
              "      <td>None</td>\n",
              "      <td>None</td>\n",
              "      <td>None</td>\n",
              "      <td>None</td>\n",
              "      <td>None</td>\n",
              "      <td>None</td>\n",
              "    </tr>\n",
              "    <tr>\n",
              "      <th>4</th>\n",
              "      <td></td>\n",
              "      <td>None</td>\n",
              "      <td>None</td>\n",
              "      <td>None</td>\n",
              "      <td>None</td>\n",
              "      <td>None</td>\n",
              "      <td>None</td>\n",
              "      <td>None</td>\n",
              "      <td>None</td>\n",
              "      <td>None</td>\n",
              "      <td>None</td>\n",
              "      <td>None</td>\n",
              "      <td>None</td>\n",
              "      <td>None</td>\n",
              "    </tr>\n",
              "    <tr>\n",
              "      <th>5</th>\n",
              "      <td>1</td>\n",
              "      <td>1378</td>\n",
              "      <td>BRADY BEAGLEY</td>\n",
              "      <td>M</td>\n",
              "      <td>27</td>\n",
              "      <td>PORTLAND</td>\n",
              "      <td>OR</td>\n",
              "      <td>19:17</td>\n",
              "      <td>6:13</td>\n",
              "      <td>1 of 44</td>\n",
              "      <td>M 25-29</td>\n",
              "      <td>1 of 4</td>\n",
              "      <td>1:00:02</td>\n",
              "      <td>1:19:19]</td>\n",
              "    </tr>\n",
              "    <tr>\n",
              "      <th>6</th>\n",
              "      <td>2</td>\n",
              "      <td>1302</td>\n",
              "      <td>SCOTT GULLICKSON</td>\n",
              "      <td>M</td>\n",
              "      <td>55</td>\n",
              "      <td>RIDGEFIELD</td>\n",
              "      <td>WA</td>\n",
              "      <td>20:55</td>\n",
              "      <td>6:45</td>\n",
              "      <td>2 of 44</td>\n",
              "      <td>M 55-59</td>\n",
              "      <td>1 of 4</td>\n",
              "      <td>1:00:01</td>\n",
              "      <td>1:20:56]</td>\n",
              "    </tr>\n",
              "    <tr>\n",
              "      <th>7</th>\n",
              "      <td>3</td>\n",
              "      <td>1364</td>\n",
              "      <td>JAMES DAVIS</td>\n",
              "      <td>M</td>\n",
              "      <td>15</td>\n",
              "      <td>SHERWOOD</td>\n",
              "      <td>OR</td>\n",
              "      <td>22:47</td>\n",
              "      <td>7:21</td>\n",
              "      <td>3 of 44</td>\n",
              "      <td>M 15-19</td>\n",
              "      <td>1 of 1</td>\n",
              "      <td>0:04</td>\n",
              "      <td>22:51]</td>\n",
              "    </tr>\n",
              "    <tr>\n",
              "      <th>8</th>\n",
              "      <td>4</td>\n",
              "      <td>1330</td>\n",
              "      <td>KEVIN ERICKSON</td>\n",
              "      <td>M</td>\n",
              "      <td>34</td>\n",
              "      <td>VANCOUVER</td>\n",
              "      <td>WA</td>\n",
              "      <td>22:52</td>\n",
              "      <td>7:22</td>\n",
              "      <td>4 of 44</td>\n",
              "      <td>M 30-34</td>\n",
              "      <td>1 of 2</td>\n",
              "      <td>0:03</td>\n",
              "      <td>22:55]</td>\n",
              "    </tr>\n",
              "  </tbody>\n",
              "</table>\n",
              "</div>"
            ],
            "text/plain": [
              "           0      1   ...              12          13\n",
              "0      [Place    Bib  ...   Time to Start   Gun Time]\n",
              "0               None  ...            None        None\n",
              "1  Finishers:   123]  ...            None        None\n",
              "2       Male:    44]  ...            None        None\n",
              "3     Female:    79]  ...            None        None\n",
              "4               None  ...            None        None\n",
              "5           1   1378  ...         1:00:02    1:19:19]\n",
              "6           2   1302  ...         1:00:01    1:20:56]\n",
              "7           3   1364  ...            0:04      22:51]\n",
              "8           4   1330  ...            0:03      22:55]\n",
              "\n",
              "[10 rows x 14 columns]"
            ]
          },
          "metadata": {
            "tags": []
          },
          "execution_count": 77
        }
      ]
    },
    {
      "cell_type": "markdown",
      "metadata": {
        "id": "toB0PzvBAv4s",
        "colab_type": "text"
      },
      "source": [
        "A continuación se muestra cómo asignar la primera fila para que sea el encabezado de la tabla."
      ]
    },
    {
      "cell_type": "code",
      "metadata": {
        "id": "9Q3mRYFysTUE",
        "colab_type": "code",
        "colab": {
          "base_uri": "https://localhost:8080/",
          "height": 204
        },
        "outputId": "3b836d1e-b20d-43d3-dc61-9a1ce794db1b"
      },
      "source": [
        "df5 = df4.rename(columns=df4.iloc[0])\n",
        "df5.head()"
      ],
      "execution_count": 78,
      "outputs": [
        {
          "output_type": "execute_result",
          "data": {
            "text/html": [
              "<div>\n",
              "<style scoped>\n",
              "    .dataframe tbody tr th:only-of-type {\n",
              "        vertical-align: middle;\n",
              "    }\n",
              "\n",
              "    .dataframe tbody tr th {\n",
              "        vertical-align: top;\n",
              "    }\n",
              "\n",
              "    .dataframe thead th {\n",
              "        text-align: right;\n",
              "    }\n",
              "</style>\n",
              "<table border=\"1\" class=\"dataframe\">\n",
              "  <thead>\n",
              "    <tr style=\"text-align: right;\">\n",
              "      <th></th>\n",
              "      <th>[Place</th>\n",
              "      <th>Bib</th>\n",
              "      <th>Name</th>\n",
              "      <th>Gender</th>\n",
              "      <th>Age</th>\n",
              "      <th>City</th>\n",
              "      <th>State</th>\n",
              "      <th>Chip Time</th>\n",
              "      <th>Chip Pace</th>\n",
              "      <th>Gender Place</th>\n",
              "      <th>Age Group</th>\n",
              "      <th>Age Group Place</th>\n",
              "      <th>Time to Start</th>\n",
              "      <th>Gun Time]</th>\n",
              "    </tr>\n",
              "  </thead>\n",
              "  <tbody>\n",
              "    <tr>\n",
              "      <th>0</th>\n",
              "      <td>[Place</td>\n",
              "      <td>Bib</td>\n",
              "      <td>Name</td>\n",
              "      <td>Gender</td>\n",
              "      <td>Age</td>\n",
              "      <td>City</td>\n",
              "      <td>State</td>\n",
              "      <td>Chip Time</td>\n",
              "      <td>Chip Pace</td>\n",
              "      <td>Gender Place</td>\n",
              "      <td>Age Group</td>\n",
              "      <td>Age Group Place</td>\n",
              "      <td>Time to Start</td>\n",
              "      <td>Gun Time]</td>\n",
              "    </tr>\n",
              "    <tr>\n",
              "      <th>0</th>\n",
              "      <td></td>\n",
              "      <td>None</td>\n",
              "      <td>None</td>\n",
              "      <td>None</td>\n",
              "      <td>None</td>\n",
              "      <td>None</td>\n",
              "      <td>None</td>\n",
              "      <td>None</td>\n",
              "      <td>None</td>\n",
              "      <td>None</td>\n",
              "      <td>None</td>\n",
              "      <td>None</td>\n",
              "      <td>None</td>\n",
              "      <td>None</td>\n",
              "    </tr>\n",
              "    <tr>\n",
              "      <th>1</th>\n",
              "      <td>Finishers:</td>\n",
              "      <td>123]</td>\n",
              "      <td>None</td>\n",
              "      <td>None</td>\n",
              "      <td>None</td>\n",
              "      <td>None</td>\n",
              "      <td>None</td>\n",
              "      <td>None</td>\n",
              "      <td>None</td>\n",
              "      <td>None</td>\n",
              "      <td>None</td>\n",
              "      <td>None</td>\n",
              "      <td>None</td>\n",
              "      <td>None</td>\n",
              "    </tr>\n",
              "    <tr>\n",
              "      <th>2</th>\n",
              "      <td>Male:</td>\n",
              "      <td>44]</td>\n",
              "      <td>None</td>\n",
              "      <td>None</td>\n",
              "      <td>None</td>\n",
              "      <td>None</td>\n",
              "      <td>None</td>\n",
              "      <td>None</td>\n",
              "      <td>None</td>\n",
              "      <td>None</td>\n",
              "      <td>None</td>\n",
              "      <td>None</td>\n",
              "      <td>None</td>\n",
              "      <td>None</td>\n",
              "    </tr>\n",
              "    <tr>\n",
              "      <th>3</th>\n",
              "      <td>Female:</td>\n",
              "      <td>79]</td>\n",
              "      <td>None</td>\n",
              "      <td>None</td>\n",
              "      <td>None</td>\n",
              "      <td>None</td>\n",
              "      <td>None</td>\n",
              "      <td>None</td>\n",
              "      <td>None</td>\n",
              "      <td>None</td>\n",
              "      <td>None</td>\n",
              "      <td>None</td>\n",
              "      <td>None</td>\n",
              "      <td>None</td>\n",
              "    </tr>\n",
              "  </tbody>\n",
              "</table>\n",
              "</div>"
            ],
            "text/plain": [
              "       [Place    Bib   Name  ...   Age Group Place   Time to Start   Gun Time]\n",
              "0      [Place    Bib   Name  ...   Age Group Place   Time to Start   Gun Time]\n",
              "0               None   None  ...              None            None        None\n",
              "1  Finishers:   123]   None  ...              None            None        None\n",
              "2       Male:    44]   None  ...              None            None        None\n",
              "3     Female:    79]   None  ...              None            None        None\n",
              "\n",
              "[5 rows x 14 columns]"
            ]
          },
          "metadata": {
            "tags": []
          },
          "execution_count": 78
        }
      ]
    },
    {
      "cell_type": "markdown",
      "metadata": {
        "id": "RYMSsA-wA2w9",
        "colab_type": "text"
      },
      "source": [
        "En este punto, la tabla está formateada casi correctamente. Para el análisis, puede comenzar obteniendo una descripción general de los datos como se muestra a continuación."
      ]
    },
    {
      "cell_type": "code",
      "metadata": {
        "id": "LKyE4w7LsfGJ",
        "colab_type": "code",
        "colab": {
          "base_uri": "https://localhost:8080/",
          "height": 357
        },
        "outputId": "8722265c-0199-43d0-e7fb-76701050961f"
      },
      "source": [
        "df5.info()\n",
        "df5.shape"
      ],
      "execution_count": 79,
      "outputs": [
        {
          "output_type": "stream",
          "text": [
            "<class 'pandas.core.frame.DataFrame'>\n",
            "Int64Index: 129 entries, 0 to 127\n",
            "Data columns (total 14 columns):\n",
            "[Place              129 non-null object\n",
            " Bib                127 non-null object\n",
            " Name               124 non-null object\n",
            " Gender             124 non-null object\n",
            " Age                124 non-null object\n",
            " City               124 non-null object\n",
            " State              124 non-null object\n",
            " Chip Time          124 non-null object\n",
            " Chip Pace          124 non-null object\n",
            " Gender Place       124 non-null object\n",
            " Age Group          124 non-null object\n",
            " Age Group Place    124 non-null object\n",
            " Time to Start      124 non-null object\n",
            " Gun Time]          124 non-null object\n",
            "dtypes: object(14)\n",
            "memory usage: 15.1+ KB\n"
          ],
          "name": "stdout"
        },
        {
          "output_type": "execute_result",
          "data": {
            "text/plain": [
              "(129, 14)"
            ]
          },
          "metadata": {
            "tags": []
          },
          "execution_count": 79
        }
      ]
    },
    {
      "cell_type": "markdown",
      "metadata": {
        "id": "hu3bWR-CBBRE",
        "colab_type": "text"
      },
      "source": [
        "La tabla tiene 129 filas y 14 columnas. Puede soltar todas las filas con cualquier valor faltante."
      ]
    },
    {
      "cell_type": "code",
      "metadata": {
        "id": "1OYiYLbCsl85",
        "colab_type": "code",
        "colab": {}
      },
      "source": [
        "df6 = df5.dropna(axis=0, how='any')"
      ],
      "execution_count": 0,
      "outputs": []
    },
    {
      "cell_type": "markdown",
      "metadata": {
        "id": "XdPnFim8BLhq",
        "colab_type": "text"
      },
      "source": [
        "Además, observe cómo el encabezado de la tabla se replica como la primera fila en df5. Se puede soltar usando la siguiente línea de código."
      ]
    },
    {
      "cell_type": "code",
      "metadata": {
        "id": "uS4TcI50spnw",
        "colab_type": "code",
        "colab": {
          "base_uri": "https://localhost:8080/",
          "height": 204
        },
        "outputId": "5f811639-cdf9-426d-96bd-af21b05a3e52"
      },
      "source": [
        "df7 = df6.drop(df6.index[0])\n",
        "df7.head()"
      ],
      "execution_count": 82,
      "outputs": [
        {
          "output_type": "execute_result",
          "data": {
            "text/html": [
              "<div>\n",
              "<style scoped>\n",
              "    .dataframe tbody tr th:only-of-type {\n",
              "        vertical-align: middle;\n",
              "    }\n",
              "\n",
              "    .dataframe tbody tr th {\n",
              "        vertical-align: top;\n",
              "    }\n",
              "\n",
              "    .dataframe thead th {\n",
              "        text-align: right;\n",
              "    }\n",
              "</style>\n",
              "<table border=\"1\" class=\"dataframe\">\n",
              "  <thead>\n",
              "    <tr style=\"text-align: right;\">\n",
              "      <th></th>\n",
              "      <th>[Place</th>\n",
              "      <th>Bib</th>\n",
              "      <th>Name</th>\n",
              "      <th>Gender</th>\n",
              "      <th>Age</th>\n",
              "      <th>City</th>\n",
              "      <th>State</th>\n",
              "      <th>Chip Time</th>\n",
              "      <th>Chip Pace</th>\n",
              "      <th>Gender Place</th>\n",
              "      <th>Age Group</th>\n",
              "      <th>Age Group Place</th>\n",
              "      <th>Time to Start</th>\n",
              "      <th>Gun Time]</th>\n",
              "    </tr>\n",
              "  </thead>\n",
              "  <tbody>\n",
              "    <tr>\n",
              "      <th>5</th>\n",
              "      <td>1</td>\n",
              "      <td>1378</td>\n",
              "      <td>BRADY BEAGLEY</td>\n",
              "      <td>M</td>\n",
              "      <td>27</td>\n",
              "      <td>PORTLAND</td>\n",
              "      <td>OR</td>\n",
              "      <td>19:17</td>\n",
              "      <td>6:13</td>\n",
              "      <td>1 of 44</td>\n",
              "      <td>M 25-29</td>\n",
              "      <td>1 of 4</td>\n",
              "      <td>1:00:02</td>\n",
              "      <td>1:19:19]</td>\n",
              "    </tr>\n",
              "    <tr>\n",
              "      <th>6</th>\n",
              "      <td>2</td>\n",
              "      <td>1302</td>\n",
              "      <td>SCOTT GULLICKSON</td>\n",
              "      <td>M</td>\n",
              "      <td>55</td>\n",
              "      <td>RIDGEFIELD</td>\n",
              "      <td>WA</td>\n",
              "      <td>20:55</td>\n",
              "      <td>6:45</td>\n",
              "      <td>2 of 44</td>\n",
              "      <td>M 55-59</td>\n",
              "      <td>1 of 4</td>\n",
              "      <td>1:00:01</td>\n",
              "      <td>1:20:56]</td>\n",
              "    </tr>\n",
              "    <tr>\n",
              "      <th>7</th>\n",
              "      <td>3</td>\n",
              "      <td>1364</td>\n",
              "      <td>JAMES DAVIS</td>\n",
              "      <td>M</td>\n",
              "      <td>15</td>\n",
              "      <td>SHERWOOD</td>\n",
              "      <td>OR</td>\n",
              "      <td>22:47</td>\n",
              "      <td>7:21</td>\n",
              "      <td>3 of 44</td>\n",
              "      <td>M 15-19</td>\n",
              "      <td>1 of 1</td>\n",
              "      <td>0:04</td>\n",
              "      <td>22:51]</td>\n",
              "    </tr>\n",
              "    <tr>\n",
              "      <th>8</th>\n",
              "      <td>4</td>\n",
              "      <td>1330</td>\n",
              "      <td>KEVIN ERICKSON</td>\n",
              "      <td>M</td>\n",
              "      <td>34</td>\n",
              "      <td>VANCOUVER</td>\n",
              "      <td>WA</td>\n",
              "      <td>22:52</td>\n",
              "      <td>7:22</td>\n",
              "      <td>4 of 44</td>\n",
              "      <td>M 30-34</td>\n",
              "      <td>1 of 2</td>\n",
              "      <td>0:03</td>\n",
              "      <td>22:55]</td>\n",
              "    </tr>\n",
              "    <tr>\n",
              "      <th>9</th>\n",
              "      <td>5</td>\n",
              "      <td>1372</td>\n",
              "      <td>STEPHEN WILLIAMS</td>\n",
              "      <td>M</td>\n",
              "      <td>24</td>\n",
              "      <td>PORTLAND</td>\n",
              "      <td>OR</td>\n",
              "      <td>24:23</td>\n",
              "      <td>7:52</td>\n",
              "      <td>5 of 44</td>\n",
              "      <td>M 20-24</td>\n",
              "      <td>1 of 2</td>\n",
              "      <td>0:15</td>\n",
              "      <td>24:38]</td>\n",
              "    </tr>\n",
              "  </tbody>\n",
              "</table>\n",
              "</div>"
            ],
            "text/plain": [
              "  [Place    Bib               Name  ...  Age Group Place  Time to Start  Gun Time]\n",
              "5      1   1378      BRADY BEAGLEY  ...           1 of 4        1:00:02   1:19:19]\n",
              "6      2   1302   SCOTT GULLICKSON  ...           1 of 4        1:00:01   1:20:56]\n",
              "7      3   1364        JAMES DAVIS  ...           1 of 1           0:04     22:51]\n",
              "8      4   1330     KEVIN ERICKSON  ...           1 of 2           0:03     22:55]\n",
              "9      5   1372   STEPHEN WILLIAMS  ...           1 of 2           0:15     24:38]\n",
              "\n",
              "[5 rows x 14 columns]"
            ]
          },
          "metadata": {
            "tags": []
          },
          "execution_count": 82
        }
      ]
    },
    {
      "cell_type": "markdown",
      "metadata": {
        "id": "T7RqmFiwBU9K",
        "colab_type": "text"
      },
      "source": [
        "Puede realizar más limpieza de datos cambiando el nombre de las columnas [Lugar y Equipo . Python es muy exigente con el espacio. Asegúrese de incluir espacio después de las comillas en Equipo]."
      ]
    },
    {
      "cell_type": "code",
      "metadata": {
        "id": "DpraebbjBqFD",
        "colab_type": "code",
        "colab": {
          "base_uri": "https://localhost:8080/",
          "height": 204
        },
        "outputId": "1a8d0563-b9a3-4adb-d06b-d8cd0550ed63"
      },
      "source": [
        "df7.rename(columns={'[Place': 'Place'},inplace=True)\n",
        "df7.rename(columns={' Gun Time]': 'Team'},inplace=True)\n",
        "df7.head()"
      ],
      "execution_count": 92,
      "outputs": [
        {
          "output_type": "execute_result",
          "data": {
            "text/html": [
              "<div>\n",
              "<style scoped>\n",
              "    .dataframe tbody tr th:only-of-type {\n",
              "        vertical-align: middle;\n",
              "    }\n",
              "\n",
              "    .dataframe tbody tr th {\n",
              "        vertical-align: top;\n",
              "    }\n",
              "\n",
              "    .dataframe thead th {\n",
              "        text-align: right;\n",
              "    }\n",
              "</style>\n",
              "<table border=\"1\" class=\"dataframe\">\n",
              "  <thead>\n",
              "    <tr style=\"text-align: right;\">\n",
              "      <th></th>\n",
              "      <th>Place</th>\n",
              "      <th>Bib</th>\n",
              "      <th>Name</th>\n",
              "      <th>Gender</th>\n",
              "      <th>Age</th>\n",
              "      <th>City</th>\n",
              "      <th>State</th>\n",
              "      <th>Chip Time</th>\n",
              "      <th>Chip Pace</th>\n",
              "      <th>Gender Place</th>\n",
              "      <th>Age Group</th>\n",
              "      <th>Age Group Place</th>\n",
              "      <th>Time to Start</th>\n",
              "      <th>Team</th>\n",
              "    </tr>\n",
              "  </thead>\n",
              "  <tbody>\n",
              "    <tr>\n",
              "      <th>5</th>\n",
              "      <td>1</td>\n",
              "      <td>1378</td>\n",
              "      <td>BRADY BEAGLEY</td>\n",
              "      <td>M</td>\n",
              "      <td>27</td>\n",
              "      <td>PORTLAND</td>\n",
              "      <td>OR</td>\n",
              "      <td>19:17</td>\n",
              "      <td>6:13</td>\n",
              "      <td>1 of 44</td>\n",
              "      <td>M 25-29</td>\n",
              "      <td>1 of 4</td>\n",
              "      <td>1:00:02</td>\n",
              "      <td>1:19:19]</td>\n",
              "    </tr>\n",
              "    <tr>\n",
              "      <th>6</th>\n",
              "      <td>2</td>\n",
              "      <td>1302</td>\n",
              "      <td>SCOTT GULLICKSON</td>\n",
              "      <td>M</td>\n",
              "      <td>55</td>\n",
              "      <td>RIDGEFIELD</td>\n",
              "      <td>WA</td>\n",
              "      <td>20:55</td>\n",
              "      <td>6:45</td>\n",
              "      <td>2 of 44</td>\n",
              "      <td>M 55-59</td>\n",
              "      <td>1 of 4</td>\n",
              "      <td>1:00:01</td>\n",
              "      <td>1:20:56]</td>\n",
              "    </tr>\n",
              "    <tr>\n",
              "      <th>7</th>\n",
              "      <td>3</td>\n",
              "      <td>1364</td>\n",
              "      <td>JAMES DAVIS</td>\n",
              "      <td>M</td>\n",
              "      <td>15</td>\n",
              "      <td>SHERWOOD</td>\n",
              "      <td>OR</td>\n",
              "      <td>22:47</td>\n",
              "      <td>7:21</td>\n",
              "      <td>3 of 44</td>\n",
              "      <td>M 15-19</td>\n",
              "      <td>1 of 1</td>\n",
              "      <td>0:04</td>\n",
              "      <td>22:51]</td>\n",
              "    </tr>\n",
              "    <tr>\n",
              "      <th>8</th>\n",
              "      <td>4</td>\n",
              "      <td>1330</td>\n",
              "      <td>KEVIN ERICKSON</td>\n",
              "      <td>M</td>\n",
              "      <td>34</td>\n",
              "      <td>VANCOUVER</td>\n",
              "      <td>WA</td>\n",
              "      <td>22:52</td>\n",
              "      <td>7:22</td>\n",
              "      <td>4 of 44</td>\n",
              "      <td>M 30-34</td>\n",
              "      <td>1 of 2</td>\n",
              "      <td>0:03</td>\n",
              "      <td>22:55]</td>\n",
              "    </tr>\n",
              "    <tr>\n",
              "      <th>9</th>\n",
              "      <td>5</td>\n",
              "      <td>1372</td>\n",
              "      <td>STEPHEN WILLIAMS</td>\n",
              "      <td>M</td>\n",
              "      <td>24</td>\n",
              "      <td>PORTLAND</td>\n",
              "      <td>OR</td>\n",
              "      <td>24:23</td>\n",
              "      <td>7:52</td>\n",
              "      <td>5 of 44</td>\n",
              "      <td>M 20-24</td>\n",
              "      <td>1 of 2</td>\n",
              "      <td>0:15</td>\n",
              "      <td>24:38]</td>\n",
              "    </tr>\n",
              "  </tbody>\n",
              "</table>\n",
              "</div>"
            ],
            "text/plain": [
              "  Place    Bib               Name  ...  Age Group Place  Time to Start       Team\n",
              "5     1   1378      BRADY BEAGLEY  ...           1 of 4        1:00:02   1:19:19]\n",
              "6     2   1302   SCOTT GULLICKSON  ...           1 of 4        1:00:01   1:20:56]\n",
              "7     3   1364        JAMES DAVIS  ...           1 of 1           0:04     22:51]\n",
              "8     4   1330     KEVIN ERICKSON  ...           1 of 2           0:03     22:55]\n",
              "9     5   1372   STEPHEN WILLIAMS  ...           1 of 2           0:15     24:38]\n",
              "\n",
              "[5 rows x 14 columns]"
            ]
          },
          "metadata": {
            "tags": []
          },
          "execution_count": 92
        }
      ]
    },
    {
      "cell_type": "markdown",
      "metadata": {
        "id": "5XEXovK-Bx4h",
        "colab_type": "text"
      },
      "source": [
        "El paso final de limpieza de datos consiste en eliminar el corchete de cierre para las celdas en la columna \"Equipo\"."
      ]
    },
    {
      "cell_type": "code",
      "metadata": {
        "id": "WWQu3J5OBz8p",
        "colab_type": "code",
        "colab": {
          "base_uri": "https://localhost:8080/",
          "height": 204
        },
        "outputId": "b76f4aa6-6879-4a0b-991c-8615af7e70d2"
      },
      "source": [
        "df7['Team'] = df7['Team'].str.strip(']')\n",
        "df7.head()"
      ],
      "execution_count": 94,
      "outputs": [
        {
          "output_type": "execute_result",
          "data": {
            "text/html": [
              "<div>\n",
              "<style scoped>\n",
              "    .dataframe tbody tr th:only-of-type {\n",
              "        vertical-align: middle;\n",
              "    }\n",
              "\n",
              "    .dataframe tbody tr th {\n",
              "        vertical-align: top;\n",
              "    }\n",
              "\n",
              "    .dataframe thead th {\n",
              "        text-align: right;\n",
              "    }\n",
              "</style>\n",
              "<table border=\"1\" class=\"dataframe\">\n",
              "  <thead>\n",
              "    <tr style=\"text-align: right;\">\n",
              "      <th></th>\n",
              "      <th>Place</th>\n",
              "      <th>Bib</th>\n",
              "      <th>Name</th>\n",
              "      <th>Gender</th>\n",
              "      <th>Age</th>\n",
              "      <th>City</th>\n",
              "      <th>State</th>\n",
              "      <th>Chip Time</th>\n",
              "      <th>Chip Pace</th>\n",
              "      <th>Gender Place</th>\n",
              "      <th>Age Group</th>\n",
              "      <th>Age Group Place</th>\n",
              "      <th>Time to Start</th>\n",
              "      <th>Team</th>\n",
              "    </tr>\n",
              "  </thead>\n",
              "  <tbody>\n",
              "    <tr>\n",
              "      <th>5</th>\n",
              "      <td>1</td>\n",
              "      <td>1378</td>\n",
              "      <td>BRADY BEAGLEY</td>\n",
              "      <td>M</td>\n",
              "      <td>27</td>\n",
              "      <td>PORTLAND</td>\n",
              "      <td>OR</td>\n",
              "      <td>19:17</td>\n",
              "      <td>6:13</td>\n",
              "      <td>1 of 44</td>\n",
              "      <td>M 25-29</td>\n",
              "      <td>1 of 4</td>\n",
              "      <td>1:00:02</td>\n",
              "      <td>1:19:19</td>\n",
              "    </tr>\n",
              "    <tr>\n",
              "      <th>6</th>\n",
              "      <td>2</td>\n",
              "      <td>1302</td>\n",
              "      <td>SCOTT GULLICKSON</td>\n",
              "      <td>M</td>\n",
              "      <td>55</td>\n",
              "      <td>RIDGEFIELD</td>\n",
              "      <td>WA</td>\n",
              "      <td>20:55</td>\n",
              "      <td>6:45</td>\n",
              "      <td>2 of 44</td>\n",
              "      <td>M 55-59</td>\n",
              "      <td>1 of 4</td>\n",
              "      <td>1:00:01</td>\n",
              "      <td>1:20:56</td>\n",
              "    </tr>\n",
              "    <tr>\n",
              "      <th>7</th>\n",
              "      <td>3</td>\n",
              "      <td>1364</td>\n",
              "      <td>JAMES DAVIS</td>\n",
              "      <td>M</td>\n",
              "      <td>15</td>\n",
              "      <td>SHERWOOD</td>\n",
              "      <td>OR</td>\n",
              "      <td>22:47</td>\n",
              "      <td>7:21</td>\n",
              "      <td>3 of 44</td>\n",
              "      <td>M 15-19</td>\n",
              "      <td>1 of 1</td>\n",
              "      <td>0:04</td>\n",
              "      <td>22:51</td>\n",
              "    </tr>\n",
              "    <tr>\n",
              "      <th>8</th>\n",
              "      <td>4</td>\n",
              "      <td>1330</td>\n",
              "      <td>KEVIN ERICKSON</td>\n",
              "      <td>M</td>\n",
              "      <td>34</td>\n",
              "      <td>VANCOUVER</td>\n",
              "      <td>WA</td>\n",
              "      <td>22:52</td>\n",
              "      <td>7:22</td>\n",
              "      <td>4 of 44</td>\n",
              "      <td>M 30-34</td>\n",
              "      <td>1 of 2</td>\n",
              "      <td>0:03</td>\n",
              "      <td>22:55</td>\n",
              "    </tr>\n",
              "    <tr>\n",
              "      <th>9</th>\n",
              "      <td>5</td>\n",
              "      <td>1372</td>\n",
              "      <td>STEPHEN WILLIAMS</td>\n",
              "      <td>M</td>\n",
              "      <td>24</td>\n",
              "      <td>PORTLAND</td>\n",
              "      <td>OR</td>\n",
              "      <td>24:23</td>\n",
              "      <td>7:52</td>\n",
              "      <td>5 of 44</td>\n",
              "      <td>M 20-24</td>\n",
              "      <td>1 of 2</td>\n",
              "      <td>0:15</td>\n",
              "      <td>24:38</td>\n",
              "    </tr>\n",
              "  </tbody>\n",
              "</table>\n",
              "</div>"
            ],
            "text/plain": [
              "  Place    Bib               Name  ...  Age Group Place  Time to Start      Team\n",
              "5     1   1378      BRADY BEAGLEY  ...           1 of 4        1:00:02   1:19:19\n",
              "6     2   1302   SCOTT GULLICKSON  ...           1 of 4        1:00:01   1:20:56\n",
              "7     3   1364        JAMES DAVIS  ...           1 of 1           0:04     22:51\n",
              "8     4   1330     KEVIN ERICKSON  ...           1 of 2           0:03     22:55\n",
              "9     5   1372   STEPHEN WILLIAMS  ...           1 of 2           0:15     24:38\n",
              "\n",
              "[5 rows x 14 columns]"
            ]
          },
          "metadata": {
            "tags": []
          },
          "execution_count": 94
        }
      ]
    },
    {
      "cell_type": "markdown",
      "metadata": {
        "id": "v1Uj9glXM4ZC",
        "colab_type": "text"
      },
      "source": [
        "Guardo los datos en un archivo csv para luego comenzar a trazar los datos y calcular estadísticas interesantes."
      ]
    },
    {
      "cell_type": "code",
      "metadata": {
        "id": "w23sCvpgMmE1",
        "colab_type": "code",
        "colab": {}
      },
      "source": [
        "df7.to_csv(\"corredores5k.csv\")"
      ],
      "execution_count": 0,
      "outputs": []
    },
    {
      "cell_type": "markdown",
      "metadata": {
        "id": "RlyXwG-yESeq",
        "colab_type": "text"
      },
      "source": [
        "\n",
        "# **Análisis de datos y visualización**\n",
        "\n",
        "La primera pregunta a responder es, ¿cuál fue el tiempo promedio de finalización (en minutos) para los corredores? Necesita convertir la columna \"Tiempo de chip\" en solo minutos. Una forma de hacerlo es convertir la columna a una lista primero para su manipulación."
      ]
    },
    {
      "cell_type": "code",
      "metadata": {
        "id": "_l4uH32iFO2B",
        "colab_type": "code",
        "colab": {
          "base_uri": "https://localhost:8080/",
          "height": 54
        },
        "outputId": "72e9e177-3c54-4c3b-f9fd-4a2270372eb7"
      },
      "source": [
        "time_list = df7[' Chip Time'].tolist()\n",
        "\n",
        "# You can use a for loop to convert 'Chip Time' to minutes\n",
        "time_mins = []\n",
        "for i in time_list:\n",
        "  tam=len(i.split(':'))\n",
        "  if tam==2:\n",
        "    m, s = i.split(':')\n",
        "    math = (int(m) * 60 + int(s))/60\n",
        "    time_mins.append(math)\n",
        "  else:\n",
        "    h, m, s = i.split(':')\n",
        "    math = (int(h) * 3600 + int(m) * 60 + int(s))/60\n",
        "    time_mins.append(math)\n",
        "print(time_mins)\n",
        "   "
      ],
      "execution_count": 111,
      "outputs": [
        {
          "output_type": "stream",
          "text": [
            "[19, 20, 22, 22, 24, 25, 25, 25, 26, 26, 26, 26, 26, 27, 27, 27, 28, 28, 28, 28, 28, 28, 28, 29, 29, 29, 29, 29, 29, 29, 29, 29, 29, 30, 30, 30, 30, 30, 31, 31, 31, 31, 31, 32, 32, 32, 32, 32, 32, 33, 33, 33, 34, 35, 35, 35, 35, 35, 35, 35, 36, 36, 36, 36, 37, 37, 37, 39, 39, 39, 39, 39, 39, 40, 40, 40, 40, 40, 40, 40, 40, 41, 41, 42, 42, 42, 42, 42, 43, 44, 44, 44, 45, 45, 46, 46, 46, 46, 47, 48, 48, 48, 48, 49, 51, 52, 52, 52, 53, 53, 54, 54, 55, 55, 55, 55, 56, 57, 57, 59, 63, 68, 129]\n"
          ],
          "name": "stdout"
        }
      ]
    },
    {
      "cell_type": "markdown",
      "metadata": {
        "id": "qpq3LfGOJaXW",
        "colab_type": "text"
      },
      "source": [
        "El siguiente paso es convertir la lista nuevamente en un marco de datos y crear una nueva columna (\"Runner_mins\") para los tiempos de chip del corredor expresados ​​en solo minutos."
      ]
    },
    {
      "cell_type": "code",
      "metadata": {
        "id": "Bi6ZoTprJhCf",
        "colab_type": "code",
        "colab": {
          "base_uri": "https://localhost:8080/",
          "height": 255
        },
        "outputId": "d9bf822b-5ec6-4718-df8b-821cd845025c"
      },
      "source": [
        "df7['Runner_mins'] = time_mins\n",
        "df7.head()"
      ],
      "execution_count": 112,
      "outputs": [
        {
          "output_type": "execute_result",
          "data": {
            "text/html": [
              "<div>\n",
              "<style scoped>\n",
              "    .dataframe tbody tr th:only-of-type {\n",
              "        vertical-align: middle;\n",
              "    }\n",
              "\n",
              "    .dataframe tbody tr th {\n",
              "        vertical-align: top;\n",
              "    }\n",
              "\n",
              "    .dataframe thead th {\n",
              "        text-align: right;\n",
              "    }\n",
              "</style>\n",
              "<table border=\"1\" class=\"dataframe\">\n",
              "  <thead>\n",
              "    <tr style=\"text-align: right;\">\n",
              "      <th></th>\n",
              "      <th>Place</th>\n",
              "      <th>Bib</th>\n",
              "      <th>Name</th>\n",
              "      <th>Gender</th>\n",
              "      <th>Age</th>\n",
              "      <th>City</th>\n",
              "      <th>State</th>\n",
              "      <th>Chip Time</th>\n",
              "      <th>Chip Pace</th>\n",
              "      <th>Gender Place</th>\n",
              "      <th>Age Group</th>\n",
              "      <th>Age Group Place</th>\n",
              "      <th>Time to Start</th>\n",
              "      <th>Team</th>\n",
              "      <th>Runner_mins</th>\n",
              "    </tr>\n",
              "  </thead>\n",
              "  <tbody>\n",
              "    <tr>\n",
              "      <th>5</th>\n",
              "      <td>1</td>\n",
              "      <td>1378</td>\n",
              "      <td>BRADY BEAGLEY</td>\n",
              "      <td>M</td>\n",
              "      <td>27</td>\n",
              "      <td>PORTLAND</td>\n",
              "      <td>OR</td>\n",
              "      <td>19:17</td>\n",
              "      <td>6:13</td>\n",
              "      <td>1 of 44</td>\n",
              "      <td>M 25-29</td>\n",
              "      <td>1 of 4</td>\n",
              "      <td>1:00:02</td>\n",
              "      <td>1:19:19</td>\n",
              "      <td>19</td>\n",
              "    </tr>\n",
              "    <tr>\n",
              "      <th>6</th>\n",
              "      <td>2</td>\n",
              "      <td>1302</td>\n",
              "      <td>SCOTT GULLICKSON</td>\n",
              "      <td>M</td>\n",
              "      <td>55</td>\n",
              "      <td>RIDGEFIELD</td>\n",
              "      <td>WA</td>\n",
              "      <td>20:55</td>\n",
              "      <td>6:45</td>\n",
              "      <td>2 of 44</td>\n",
              "      <td>M 55-59</td>\n",
              "      <td>1 of 4</td>\n",
              "      <td>1:00:01</td>\n",
              "      <td>1:20:56</td>\n",
              "      <td>20</td>\n",
              "    </tr>\n",
              "    <tr>\n",
              "      <th>7</th>\n",
              "      <td>3</td>\n",
              "      <td>1364</td>\n",
              "      <td>JAMES DAVIS</td>\n",
              "      <td>M</td>\n",
              "      <td>15</td>\n",
              "      <td>SHERWOOD</td>\n",
              "      <td>OR</td>\n",
              "      <td>22:47</td>\n",
              "      <td>7:21</td>\n",
              "      <td>3 of 44</td>\n",
              "      <td>M 15-19</td>\n",
              "      <td>1 of 1</td>\n",
              "      <td>0:04</td>\n",
              "      <td>22:51</td>\n",
              "      <td>22</td>\n",
              "    </tr>\n",
              "    <tr>\n",
              "      <th>8</th>\n",
              "      <td>4</td>\n",
              "      <td>1330</td>\n",
              "      <td>KEVIN ERICKSON</td>\n",
              "      <td>M</td>\n",
              "      <td>34</td>\n",
              "      <td>VANCOUVER</td>\n",
              "      <td>WA</td>\n",
              "      <td>22:52</td>\n",
              "      <td>7:22</td>\n",
              "      <td>4 of 44</td>\n",
              "      <td>M 30-34</td>\n",
              "      <td>1 of 2</td>\n",
              "      <td>0:03</td>\n",
              "      <td>22:55</td>\n",
              "      <td>22</td>\n",
              "    </tr>\n",
              "    <tr>\n",
              "      <th>9</th>\n",
              "      <td>5</td>\n",
              "      <td>1372</td>\n",
              "      <td>STEPHEN WILLIAMS</td>\n",
              "      <td>M</td>\n",
              "      <td>24</td>\n",
              "      <td>PORTLAND</td>\n",
              "      <td>OR</td>\n",
              "      <td>24:23</td>\n",
              "      <td>7:52</td>\n",
              "      <td>5 of 44</td>\n",
              "      <td>M 20-24</td>\n",
              "      <td>1 of 2</td>\n",
              "      <td>0:15</td>\n",
              "      <td>24:38</td>\n",
              "      <td>24</td>\n",
              "    </tr>\n",
              "  </tbody>\n",
              "</table>\n",
              "</div>"
            ],
            "text/plain": [
              "  Place    Bib               Name  ...  Time to Start      Team Runner_mins\n",
              "5     1   1378      BRADY BEAGLEY  ...        1:00:02   1:19:19          19\n",
              "6     2   1302   SCOTT GULLICKSON  ...        1:00:01   1:20:56          20\n",
              "7     3   1364        JAMES DAVIS  ...           0:04     22:51          22\n",
              "8     4   1330     KEVIN ERICKSON  ...           0:03     22:55          22\n",
              "9     5   1372   STEPHEN WILLIAMS  ...           0:15     24:38          24\n",
              "\n",
              "[5 rows x 15 columns]"
            ]
          },
          "metadata": {
            "tags": []
          },
          "execution_count": 112
        }
      ]
    },
    {
      "cell_type": "markdown",
      "metadata": {
        "id": "02Pi-EhvJnDx",
        "colab_type": "text"
      },
      "source": [
        "El siguiente código muestra cómo calcular estadísticas para columnas numéricas solo en el marco de datos."
      ]
    },
    {
      "cell_type": "code",
      "metadata": {
        "id": "ZW8h1S-0Jnv1",
        "colab_type": "code",
        "colab": {
          "base_uri": "https://localhost:8080/",
          "height": 297
        },
        "outputId": "c619f6ad-f899-41b5-de28-019abe03dba2"
      },
      "source": [
        "df7.describe(include=[np.number])"
      ],
      "execution_count": 113,
      "outputs": [
        {
          "output_type": "execute_result",
          "data": {
            "text/html": [
              "<div>\n",
              "<style scoped>\n",
              "    .dataframe tbody tr th:only-of-type {\n",
              "        vertical-align: middle;\n",
              "    }\n",
              "\n",
              "    .dataframe tbody tr th {\n",
              "        vertical-align: top;\n",
              "    }\n",
              "\n",
              "    .dataframe thead th {\n",
              "        text-align: right;\n",
              "    }\n",
              "</style>\n",
              "<table border=\"1\" class=\"dataframe\">\n",
              "  <thead>\n",
              "    <tr style=\"text-align: right;\">\n",
              "      <th></th>\n",
              "      <th>Runner_mins</th>\n",
              "    </tr>\n",
              "  </thead>\n",
              "  <tbody>\n",
              "    <tr>\n",
              "      <th>count</th>\n",
              "      <td>123.000000</td>\n",
              "    </tr>\n",
              "    <tr>\n",
              "      <th>mean</th>\n",
              "      <td>38.390244</td>\n",
              "    </tr>\n",
              "    <tr>\n",
              "      <th>std</th>\n",
              "      <td>13.063925</td>\n",
              "    </tr>\n",
              "    <tr>\n",
              "      <th>min</th>\n",
              "      <td>19.000000</td>\n",
              "    </tr>\n",
              "    <tr>\n",
              "      <th>25%</th>\n",
              "      <td>29.000000</td>\n",
              "    </tr>\n",
              "    <tr>\n",
              "      <th>50%</th>\n",
              "      <td>36.000000</td>\n",
              "    </tr>\n",
              "    <tr>\n",
              "      <th>75%</th>\n",
              "      <td>44.500000</td>\n",
              "    </tr>\n",
              "    <tr>\n",
              "      <th>max</th>\n",
              "      <td>129.000000</td>\n",
              "    </tr>\n",
              "  </tbody>\n",
              "</table>\n",
              "</div>"
            ],
            "text/plain": [
              "       Runner_mins\n",
              "count   123.000000\n",
              "mean     38.390244\n",
              "std      13.063925\n",
              "min      19.000000\n",
              "25%      29.000000\n",
              "50%      36.000000\n",
              "75%      44.500000\n",
              "max     129.000000"
            ]
          },
          "metadata": {
            "tags": []
          },
          "execution_count": 113
        }
      ]
    },
    {
      "cell_type": "markdown",
      "metadata": {
        "id": "E9eEke9TJwC4",
        "colab_type": "text"
      },
      "source": [
        "Curiosamente, el tiempo promedio de chip para todos los corredores fue de ~ 38.39 minutos. El corredor más rápido de 5 km terminó en 19 minutos, y el corredor más lento terminó en 129 minutos.\n",
        "\n",
        "Un diagrama de caja es otra herramienta útil para visualizar estadísticas resumidas (máximo, mínimo, medio, primer cuartil, tercer cuartil, incluidos los valores atípicos). A continuación se presentan estadísticas de resumen de datos para los corredores que se muestran en un diagrama de caja. Para la visualización de datos, es conveniente importar primero los parámetros del módulo pylab que viene con matplotlib y establecer el mismo tamaño para todas las figuras para evitar hacerlo para cada figura."
      ]
    },
    {
      "cell_type": "code",
      "metadata": {
        "id": "ksAp6tdYKEN3",
        "colab_type": "code",
        "colab": {
          "base_uri": "https://localhost:8080/",
          "height": 357
        },
        "outputId": "3901ab16-ed9a-4a73-ee9e-a659c8252910"
      },
      "source": [
        "from pylab import rcParams\n",
        "rcParams['figure.figsize'] = 15, 5\n",
        "df7.boxplot(column='Runner_mins')\n",
        "plt.grid(True, axis='y')\n",
        "plt.ylabel('Chip Time')\n",
        "plt.xticks([1], ['Runners'])"
      ],
      "execution_count": 115,
      "outputs": [
        {
          "output_type": "execute_result",
          "data": {
            "text/plain": [
              "([<matplotlib.axis.XTick at 0x7f3b90b3ed10>],\n",
              " <a list of 1 Text xticklabel objects>)"
            ]
          },
          "metadata": {
            "tags": []
          },
          "execution_count": 115
        },
        {
          "output_type": "display_data",
          "data": {
            "image/png": "[encoded data removed]",
            "text/plain": [
              "<Figure size 1080x360 with 1 Axes>"
            ]
          },
          "metadata": {
            "tags": []
          }
        }
      ]
    },
    {
      "cell_type": "markdown",
      "metadata": {
        "id": "OergJXvQKS93",
        "colab_type": "text"
      },
      "source": [
        "La segunda pregunta a responder es: ¿Los tiempos de finalización de los corredores siguieron una distribución normal?\n",
        "\n",
        "A continuación se muestra un diagrama de distribución de los tiempos de chip de los corredores trazados usando la biblioteca naciente. La distribución se ve casi normal."
      ]
    },
    {
      "cell_type": "code",
      "metadata": {
        "id": "oKD56P7GKavd",
        "colab_type": "code",
        "colab": {
          "base_uri": "https://localhost:8080/",
          "height": 338
        },
        "outputId": "313b3d6d-961f-4c52-8f90-3b68e268b911"
      },
      "source": [
        "x = df7['Runner_mins']\n",
        "ax = sns.distplot(x, hist=True, kde=True, rug=False, color='m', bins=25, hist_kws={'edgecolor':'black'})\n",
        "plt.show()"
      ],
      "execution_count": 116,
      "outputs": [
        {
          "output_type": "display_data",
          "data": {
            "image/png": "[encoded data removed]",
            "text/plain": [
              "<Figure size 1080x360 with 1 Axes>"
            ]
          },
          "metadata": {
            "tags": []
          }
        }
      ]
    },
    {
      "cell_type": "markdown",
      "metadata": {
        "id": "rymhp8cxKg63",
        "colab_type": "text"
      },
      "source": [
        "La tercera pregunta se refiere a si hubo diferencias de rendimiento entre hombres y mujeres de varios grupos de edad. A continuación se muestra un diagrama de distribución de tiempos de chip para hombres y mujeres."
      ]
    },
    {
      "cell_type": "code",
      "metadata": {
        "id": "0ObShEG9Kcrp",
        "colab_type": "code",
        "colab": {
          "base_uri": "https://localhost:8080/",
          "height": 355
        },
        "outputId": "3af93cf3-0b80-421a-d5d2-cc56a9b95694"
      },
      "source": [
        "f_fuko = df7.loc[df7[' Gender']==' F']['Runner_mins']\n",
        "m_fuko = df7.loc[df7[' Gender']==' M']['Runner_mins']\n",
        "sns.distplot(f_fuko, hist=True, kde=True, rug=False, hist_kws={'edgecolor':'black'}, label='Female')\n",
        "sns.distplot(m_fuko, hist=False, kde=True, rug=False, hist_kws={'edgecolor':'black'}, label='Male')\n",
        "plt.legend()"
      ],
      "execution_count": 117,
      "outputs": [
        {
          "output_type": "execute_result",
          "data": {
            "text/plain": [
              "<matplotlib.legend.Legend at 0x7f3b86f47ad0>"
            ]
          },
          "metadata": {
            "tags": []
          },
          "execution_count": 117
        },
        {
          "output_type": "display_data",
          "data": {
            "image/png": "[encoded data removed]",
            "text/plain": [
              "<Figure size 1080x360 with 1 Axes>"
            ]
          },
          "metadata": {
            "tags": []
          }
        }
      ]
    },
    {
      "cell_type": "markdown",
      "metadata": {
        "id": "O7iUwgG-KsF-",
        "colab_type": "text"
      },
      "source": [
        "La distribución indica que las mujeres fueron más lentas que los hombres en promedio. Puede usar el método groupby () para calcular estadísticas de resumen para hombres y mujeres por separado, como se muestra a continuación"
      ]
    },
    {
      "cell_type": "code",
      "metadata": {
        "id": "WYp88cwfK73V",
        "colab_type": "code",
        "colab": {
          "base_uri": "https://localhost:8080/",
          "height": 102
        },
        "outputId": "ca83baf7-88ba-4570-c5d4-35f1b9d4cc2a"
      },
      "source": [
        "g_stats = df7.groupby(\" Gender\", as_index=True).describe()\n",
        "print(g_stats)"
      ],
      "execution_count": 118,
      "outputs": [
        {
          "output_type": "stream",
          "text": [
            "        Runner_mins                                                       \n",
            "              count       mean        std   min    25%   50%    75%    max\n",
            " Gender                                                                   \n",
            " F             79.0  41.506329  13.544678  25.0  32.00  39.0  48.00  129.0\n",
            " M             44.0  32.795455  10.077789  19.0  26.75  29.0  39.25   68.0\n"
          ],
          "name": "stdout"
        }
      ]
    },
    {
      "cell_type": "markdown",
      "metadata": {
        "id": "PKZZQK4dLl8f",
        "colab_type": "text"
      },
      "source": [
        "El tiempo promedio de astillas para todas las mujeres y los hombres fue de ~ 41 minutos y ~ 44 minutos, respectivamente. A continuación se muestra una comparación de diagrama de caja de lado a lado de los tiempos de acabado masculino y femenino."
      ]
    },
    {
      "cell_type": "code",
      "metadata": {
        "id": "QIItAD8ELvVt",
        "colab_type": "code",
        "colab": {
          "base_uri": "https://localhost:8080/",
          "height": 365
        },
        "outputId": "e82f7bd0-27f2-458b-fc84-60a0e519cd22"
      },
      "source": [
        "df7.boxplot(column='Runner_mins', by=' Gender')\n",
        "plt.ylabel('Chip Time')\n",
        "plt.suptitle(\"\")"
      ],
      "execution_count": 119,
      "outputs": [
        {
          "output_type": "execute_result",
          "data": {
            "text/plain": [
              "Text(0.5,0.98,'')"
            ]
          },
          "metadata": {
            "tags": []
          },
          "execution_count": 119
        },
        {
          "output_type": "display_data",
          "data": {
            "image/png": "[encoded data removed]",
            "text/plain": [
              "<Figure size 1080x360 with 1 Axes>"
            ]
          },
          "metadata": {
            "tags": []
          }
        }
      ]
    }
  ]
}